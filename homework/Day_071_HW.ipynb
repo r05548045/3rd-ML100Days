{
 "cells": [
  {
   "cell_type": "markdown",
   "metadata": {
    "colab_type": "text",
    "id": "cj4tE8e8iUtO"
   },
   "source": [
    "#   \n",
    "\n",
    "# 作業目標:\n",
    "\n",
    "    1. 藉由固定的 dataset, 來驗證不同loss function\n",
    "    2. Dataset 的特性跟我們選用的loss function 對accrancy 的影響\n",
    "    \n",
    "    \n",
    "# 作業重點: \n",
    "    請分別選用 \"MSE\", \"binary _crossentropy\"\n",
    "    查看Train/test accurancy and loss rate\n",
    "    "
   ]
  },
  {
   "cell_type": "markdown",
   "metadata": {
    "colab_type": "text",
    "id": "R51J4KyyiUsL"
   },
   "source": [
    "# 導入必要的函數"
   ]
  },
  {
   "cell_type": "code",
   "execution_count": 1,
   "metadata": {
    "colab": {},
    "colab_type": "code",
    "id": "Qd68OQjciUsM"
   },
   "outputs": [
    {
     "name": "stderr",
     "output_type": "stream",
     "text": [
      "Using TensorFlow backend.\n"
     ]
    }
   ],
   "source": [
    "from keras.datasets import cifar10\n",
    "import numpy as np\n",
    "np.random.seed(10)"
   ]
  },
  {
   "cell_type": "markdown",
   "metadata": {
    "colab_type": "text",
    "id": "GxKuzQLQiUsP"
   },
   "source": [
    "# 資料準備"
   ]
  },
  {
   "cell_type": "code",
   "execution_count": 2,
   "metadata": {
    "colab": {},
    "colab_type": "code",
    "id": "MIbFZdTCiUsQ"
   },
   "outputs": [],
   "source": [
    "#取得Keras Dataset\n",
    "(x_img_train,y_label_train),(x_img_test,y_label_test)=cifar10.load_data()"
   ]
  },
  {
   "cell_type": "code",
   "execution_count": 3,
   "metadata": {
    "colab": {},
    "colab_type": "code",
    "id": "J8CJVjNOiUsS"
   },
   "outputs": [
    {
     "name": "stdout",
     "output_type": "stream",
     "text": [
      "train data: images: (50000, 32, 32, 3)  labels: (50000, 1)\n",
      "test  data: images: (10000, 32, 32, 3)  labels: (10000, 1)\n"
     ]
    }
   ],
   "source": [
    "#確認 CIFAR10 Dataset 資料維度\n",
    "print(\"train data:\",'images:',x_img_train.shape,\n",
    "      \" labels:\",y_label_train.shape) \n",
    "print(\"test  data:\",'images:',x_img_test.shape ,\n",
    "      \" labels:\",y_label_test.shape) "
   ]
  },
  {
   "cell_type": "code",
   "execution_count": 4,
   "metadata": {
    "colab": {},
    "colab_type": "code",
    "id": "V3P6P4DXiUsV"
   },
   "outputs": [],
   "source": [
    "#資料正規化\n",
    "x_img_train_normalize = x_img_train.astype('float32') / 255.0\n",
    "x_img_test_normalize = x_img_test.astype('float32') / 255.0"
   ]
  },
  {
   "cell_type": "code",
   "execution_count": 5,
   "metadata": {
    "colab": {},
    "colab_type": "code",
    "id": "vsDyjKYliUsX"
   },
   "outputs": [
    {
     "data": {
      "text/plain": [
       "(10000, 10)"
      ]
     },
     "execution_count": 5,
     "metadata": {},
     "output_type": "execute_result"
    }
   ],
   "source": [
    "#針對Label 做 ONE HOT ENCODE\n",
    "from keras.utils import np_utils\n",
    "y_label_train_OneHot = np_utils.to_categorical(y_label_train)\n",
    "y_label_test_OneHot = np_utils.to_categorical(y_label_test)\n",
    "y_label_test_OneHot.shape"
   ]
  },
  {
   "cell_type": "markdown",
   "metadata": {
    "colab_type": "text",
    "id": "RutW2OtgiUsZ"
   },
   "source": [
    "# 建立模型"
   ]
  },
  {
   "cell_type": "code",
   "execution_count": 6,
   "metadata": {
    "colab": {},
    "colab_type": "code",
    "id": "aHz592aXiUsa"
   },
   "outputs": [],
   "source": [
    "from keras.models import Sequential\n",
    "from keras.layers import Dense, Dropout, Activation, Flatten\n",
    "from keras.layers import Conv2D, MaxPooling2D, ZeroPadding2D"
   ]
  },
  {
   "cell_type": "code",
   "execution_count": 7,
   "metadata": {
    "colab": {},
    "colab_type": "code",
    "id": "hslqrIp0iUse"
   },
   "outputs": [],
   "source": [
    "model = Sequential()"
   ]
  },
  {
   "cell_type": "code",
   "execution_count": 8,
   "metadata": {
    "colab": {},
    "colab_type": "code",
    "id": "Hqe35hs2iUsi"
   },
   "outputs": [],
   "source": [
    "#卷積層1"
   ]
  },
  {
   "cell_type": "code",
   "execution_count": 9,
   "metadata": {
    "colab": {},
    "colab_type": "code",
    "id": "ED7dqe1YiUsm"
   },
   "outputs": [],
   "source": [
    "model.add(Conv2D(filters=32,kernel_size=(3,3),\n",
    "                 input_shape=(32, 32,3), \n",
    "                 activation='relu', \n",
    "                 padding='same'))"
   ]
  },
  {
   "cell_type": "code",
   "execution_count": 10,
   "metadata": {
    "colab": {},
    "colab_type": "code",
    "id": "n-GRKmPViUso"
   },
   "outputs": [],
   "source": [
    "model.add(Dropout(rate=0.25))"
   ]
  },
  {
   "cell_type": "code",
   "execution_count": 11,
   "metadata": {
    "colab": {},
    "colab_type": "code",
    "id": "GlWnnD1uiUsw"
   },
   "outputs": [],
   "source": [
    "model.add(MaxPooling2D(pool_size=(2, 2)))"
   ]
  },
  {
   "cell_type": "code",
   "execution_count": 12,
   "metadata": {
    "colab": {},
    "colab_type": "code",
    "id": "nawlkt55iUsy"
   },
   "outputs": [],
   "source": [
    "#卷積層2與池化層2"
   ]
  },
  {
   "cell_type": "code",
   "execution_count": 13,
   "metadata": {
    "colab": {},
    "colab_type": "code",
    "id": "xxyETiKNiUs1"
   },
   "outputs": [],
   "source": [
    "model.add(Conv2D(filters=64, kernel_size=(3, 3), \n",
    "                 activation='relu', padding='same'))"
   ]
  },
  {
   "cell_type": "code",
   "execution_count": 14,
   "metadata": {
    "colab": {},
    "colab_type": "code",
    "id": "RqcKWtqGiUs2"
   },
   "outputs": [],
   "source": [
    "model.add(Dropout(0.25))"
   ]
  },
  {
   "cell_type": "code",
   "execution_count": 15,
   "metadata": {
    "colab": {},
    "colab_type": "code",
    "id": "BUOOzlqfiUs4"
   },
   "outputs": [],
   "source": [
    "model.add(MaxPooling2D(pool_size=(2, 2)))"
   ]
  },
  {
   "cell_type": "code",
   "execution_count": 16,
   "metadata": {
    "colab": {},
    "colab_type": "code",
    "id": "LpkppB2siUs7"
   },
   "outputs": [],
   "source": [
    "#建立神經網路(平坦層、隱藏層、輸出層)"
   ]
  },
  {
   "cell_type": "code",
   "execution_count": 17,
   "metadata": {
    "colab": {},
    "colab_type": "code",
    "id": "UQOfU54_iUs_"
   },
   "outputs": [],
   "source": [
    "model.add(Flatten())\n",
    "model.add(Dropout(rate=0.25))"
   ]
  },
  {
   "cell_type": "code",
   "execution_count": 18,
   "metadata": {
    "colab": {},
    "colab_type": "code",
    "id": "_NV-8sq4iUtD"
   },
   "outputs": [],
   "source": [
    "model.add(Dense(1024, activation='relu'))\n",
    "model.add(Dropout(rate=0.25))"
   ]
  },
  {
   "cell_type": "code",
   "execution_count": 19,
   "metadata": {
    "colab": {},
    "colab_type": "code",
    "id": "qVK77krOiUtF"
   },
   "outputs": [],
   "source": [
    "model.add(Dense(10, activation='softmax'))"
   ]
  },
  {
   "cell_type": "code",
   "execution_count": 20,
   "metadata": {
    "colab": {},
    "colab_type": "code",
    "id": "ZxzRIjR0iUtH"
   },
   "outputs": [
    {
     "name": "stdout",
     "output_type": "stream",
     "text": [
      "_________________________________________________________________\n",
      "Layer (type)                 Output Shape              Param #   \n",
      "=================================================================\n",
      "conv2d_1 (Conv2D)            (None, 32, 32, 32)        896       \n",
      "_________________________________________________________________\n",
      "dropout_1 (Dropout)          (None, 32, 32, 32)        0         \n",
      "_________________________________________________________________\n",
      "max_pooling2d_1 (MaxPooling2 (None, 16, 16, 32)        0         \n",
      "_________________________________________________________________\n",
      "conv2d_2 (Conv2D)            (None, 16, 16, 64)        18496     \n",
      "_________________________________________________________________\n",
      "dropout_2 (Dropout)          (None, 16, 16, 64)        0         \n",
      "_________________________________________________________________\n",
      "max_pooling2d_2 (MaxPooling2 (None, 8, 8, 64)          0         \n",
      "_________________________________________________________________\n",
      "flatten_1 (Flatten)          (None, 4096)              0         \n",
      "_________________________________________________________________\n",
      "dropout_3 (Dropout)          (None, 4096)              0         \n",
      "_________________________________________________________________\n",
      "dense_1 (Dense)              (None, 1024)              4195328   \n",
      "_________________________________________________________________\n",
      "dropout_4 (Dropout)          (None, 1024)              0         \n",
      "_________________________________________________________________\n",
      "dense_2 (Dense)              (None, 10)                10250     \n",
      "=================================================================\n",
      "Total params: 4,224,970\n",
      "Trainable params: 4,224,970\n",
      "Non-trainable params: 0\n",
      "_________________________________________________________________\n",
      "None\n"
     ]
    }
   ],
   "source": [
    "#檢查model 的STACK\n",
    "print(model.summary())"
   ]
  },
  {
   "cell_type": "markdown",
   "metadata": {
    "colab_type": "text",
    "id": "QJCtpJM0iUtJ"
   },
   "source": [
    "# 載入之前訓練的模型"
   ]
  },
  {
   "cell_type": "code",
   "execution_count": 21,
   "metadata": {
    "colab": {},
    "colab_type": "code",
    "id": "JU3A6NzQiUtK"
   },
   "outputs": [
    {
     "name": "stdout",
     "output_type": "stream",
     "text": [
      "載入模型失敗!開始訓練一個新模型\n"
     ]
    }
   ],
   "source": [
    "try:\n",
    "    model.load_weights(\"SaveModel/cifarCnnModel.h5\")\n",
    "    print(\"載入模型成功!繼續訓練模型\")\n",
    "except :    \n",
    "    print(\"載入模型失敗!開始訓練一個新模型\")"
   ]
  },
  {
   "cell_type": "markdown",
   "metadata": {
    "colab_type": "text",
    "id": "qBbCuziziUtM"
   },
   "source": [
    "# 訓練模型"
   ]
  },
  {
   "cell_type": "code",
   "execution_count": 22,
   "metadata": {},
   "outputs": [],
   "source": [
    "import matplotlib.pyplot as plt\n",
    "%matplotlib inline\n",
    "\n",
    "#定義一個繪圖函數\n",
    "def show_train_history(train_history,train_acc,test_acc):\n",
    "    plt.plot(train_history.history[train_acc])\n",
    "    plt.plot(train_history.history[test_acc])\n",
    "    plt.title('Train History')\n",
    "    plt.ylabel('Accuracy')\n",
    "    plt.xlabel('Epoch')\n",
    "    plt.legend(['train_acc', 'val_acc'], loc='upper left')\n",
    "    plt.show()\n",
    "\n",
    "def compile_model (loss_function) :\n",
    "    model.compile(loss=loss_function, optimizer='sgd', metrics=['accuracy'])\n",
    "\n",
    "    train_history=model.fit(x_img_train_normalize, y_label_train_OneHot,\n",
    "                        validation_split=0.25,\n",
    "                        epochs=12, batch_size=128, verbose=1)\n",
    "    \n",
    "    show_train_history(train_history,'acc','val_acc')\n",
    "    \n",
    "    scores = model.evaluate(x_img_test_normalize, y_label_test_OneHot)\n",
    "    print('accuracy = ',scores[1])"
   ]
  },
  {
   "cell_type": "code",
   "execution_count": 23,
   "metadata": {
    "colab": {},
    "colab_type": "code",
    "id": "4-GdDgmQiUtS"
   },
   "outputs": [
    {
     "name": "stdout",
     "output_type": "stream",
     "text": [
      "Train on 37500 samples, validate on 12500 samples\n",
      "Epoch 1/12\n",
      "37500/37500 [==============================] - 7s 185us/step - loss: 2.1650 - acc: 0.1983 - val_loss: 2.0520 - val_acc: 0.2950\n",
      "Epoch 2/12\n",
      "37500/37500 [==============================] - 4s 115us/step - loss: 1.9550 - acc: 0.2961 - val_loss: 1.9350 - val_acc: 0.3464\n",
      "Epoch 3/12\n",
      "37500/37500 [==============================] - 4s 114us/step - loss: 1.8338 - acc: 0.3478 - val_loss: 1.8416 - val_acc: 0.3827\n",
      "Epoch 4/12\n",
      "37500/37500 [==============================] - 4s 114us/step - loss: 1.7301 - acc: 0.3820 - val_loss: 1.7480 - val_acc: 0.4178\n",
      "Epoch 5/12\n",
      "37500/37500 [==============================] - 4s 115us/step - loss: 1.6493 - acc: 0.4100 - val_loss: 1.6789 - val_acc: 0.4404\n",
      "Epoch 6/12\n",
      "37500/37500 [==============================] - 4s 114us/step - loss: 1.5853 - acc: 0.4315 - val_loss: 1.6497 - val_acc: 0.4504\n",
      "Epoch 7/12\n",
      "37500/37500 [==============================] - 4s 114us/step - loss: 1.5309 - acc: 0.4538 - val_loss: 1.5877 - val_acc: 0.4761\n",
      "Epoch 8/12\n",
      "37500/37500 [==============================] - 4s 118us/step - loss: 1.4845 - acc: 0.4688 - val_loss: 1.5355 - val_acc: 0.4866\n",
      "Epoch 9/12\n",
      "37500/37500 [==============================] - 4s 118us/step - loss: 1.4452 - acc: 0.4813 - val_loss: 1.4753 - val_acc: 0.5124\n",
      "Epoch 10/12\n",
      "37500/37500 [==============================] - 4s 117us/step - loss: 1.4104 - acc: 0.4947 - val_loss: 1.4487 - val_acc: 0.5243\n",
      "Epoch 11/12\n",
      "37500/37500 [==============================] - 4s 118us/step - loss: 1.3810 - acc: 0.5058 - val_loss: 1.4404 - val_acc: 0.5362\n",
      "Epoch 12/12\n",
      "37500/37500 [==============================] - 4s 117us/step - loss: 1.3491 - acc: 0.5219 - val_loss: 1.4076 - val_acc: 0.5405\n"
     ]
    },
    {
     "data": {
      "image/png": "[encoded data removed]",
      "text/plain": [
       "<Figure size 432x288 with 1 Axes>"
      ]
     },
     "metadata": {
      "needs_background": "light"
     },
     "output_type": "display_data"
    },
    {
     "name": "stdout",
     "output_type": "stream",
     "text": [
      "10000/10000 [==============================] - 1s 63us/step\n",
      "accuracy =  0.547\n"
     ]
    }
   ],
   "source": [
    "compile_model('categorical_crossentropy')"
   ]
  },
  {
   "cell_type": "code",
   "execution_count": 24,
   "metadata": {},
   "outputs": [
    {
     "name": "stdout",
     "output_type": "stream",
     "text": [
      "Train on 37500 samples, validate on 12500 samples\n",
      "Epoch 1/12\n",
      "37500/37500 [==============================] - 5s 130us/step - loss: 0.0606 - acc: 0.5310 - val_loss: 0.0629 - val_acc: 0.5493\n",
      "Epoch 2/12\n",
      "37500/37500 [==============================] - 5s 123us/step - loss: 0.0604 - acc: 0.5332 - val_loss: 0.0628 - val_acc: 0.5519\n",
      "Epoch 3/12\n",
      "37500/37500 [==============================] - 4s 120us/step - loss: 0.0604 - acc: 0.5330 - val_loss: 0.0627 - val_acc: 0.5520\n",
      "Epoch 4/12\n",
      "37500/37500 [==============================] - 4s 116us/step - loss: 0.0602 - acc: 0.5365 - val_loss: 0.0627 - val_acc: 0.5501\n",
      "Epoch 5/12\n",
      "37500/37500 [==============================] - 4s 117us/step - loss: 0.0601 - acc: 0.5353 - val_loss: 0.0625 - val_acc: 0.5530\n",
      "Epoch 6/12\n",
      "37500/37500 [==============================] - 4s 117us/step - loss: 0.0602 - acc: 0.5346 - val_loss: 0.0624 - val_acc: 0.5538\n",
      "Epoch 7/12\n",
      "37500/37500 [==============================] - 4s 115us/step - loss: 0.0602 - acc: 0.5367 - val_loss: 0.0624 - val_acc: 0.5525\n",
      "Epoch 8/12\n",
      "37500/37500 [==============================] - 4s 120us/step - loss: 0.0600 - acc: 0.5382 - val_loss: 0.0623 - val_acc: 0.5524\n",
      "Epoch 9/12\n",
      "37500/37500 [==============================] - 5s 122us/step - loss: 0.0599 - acc: 0.5371 - val_loss: 0.0623 - val_acc: 0.5543\n",
      "Epoch 10/12\n",
      "37500/37500 [==============================] - 4s 118us/step - loss: 0.0600 - acc: 0.5354 - val_loss: 0.0622 - val_acc: 0.5554\n",
      "Epoch 11/12\n",
      "37500/37500 [==============================] - 4s 114us/step - loss: 0.0598 - acc: 0.5374 - val_loss: 0.0621 - val_acc: 0.5556\n",
      "Epoch 12/12\n",
      "37500/37500 [==============================] - 4s 112us/step - loss: 0.0596 - acc: 0.5406 - val_loss: 0.0622 - val_acc: 0.5544\n"
     ]
    },
    {
     "data": {
      "image/png": "[encoded data removed]",
      "text/plain": [
       "<Figure size 432x288 with 1 Axes>"
      ]
     },
     "metadata": {
      "needs_background": "light"
     },
     "output_type": "display_data"
    },
    {
     "name": "stdout",
     "output_type": "stream",
     "text": [
      "10000/10000 [==============================] - 1s 62us/step\n",
      "accuracy =  0.5555\n"
     ]
    }
   ],
   "source": [
    "compile_model('MSE')"
   ]
  },
  {
   "cell_type": "code",
   "execution_count": 25,
   "metadata": {},
   "outputs": [
    {
     "name": "stdout",
     "output_type": "stream",
     "text": [
      "Train on 37500 samples, validate on 12500 samples\n",
      "Epoch 1/12\n",
      "37500/37500 [==============================] - 5s 131us/step - loss: 0.2024 - acc: 0.9206 - val_loss: 0.2115 - val_acc: 0.9157\n",
      "Epoch 2/12\n",
      "37500/37500 [==============================] - 4s 119us/step - loss: 0.2016 - acc: 0.9208 - val_loss: 0.2114 - val_acc: 0.9158\n",
      "Epoch 3/12\n",
      "37500/37500 [==============================] - 4s 117us/step - loss: 0.2009 - acc: 0.9214 - val_loss: 0.2103 - val_acc: 0.9162\n",
      "Epoch 4/12\n",
      "37500/37500 [==============================] - 4s 119us/step - loss: 0.2016 - acc: 0.9205 - val_loss: 0.2102 - val_acc: 0.9162\n",
      "Epoch 5/12\n",
      "37500/37500 [==============================] - 4s 116us/step - loss: 0.2002 - acc: 0.9214 - val_loss: 0.2096 - val_acc: 0.9163\n",
      "Epoch 6/12\n",
      "37500/37500 [==============================] - 4s 114us/step - loss: 0.2000 - acc: 0.9218 - val_loss: 0.2096 - val_acc: 0.9164\n",
      "Epoch 7/12\n",
      "37500/37500 [==============================] - 4s 116us/step - loss: 0.1991 - acc: 0.9218 - val_loss: 0.2088 - val_acc: 0.9167\n",
      "Epoch 8/12\n",
      "37500/37500 [==============================] - 4s 116us/step - loss: 0.1990 - acc: 0.9221 - val_loss: 0.2086 - val_acc: 0.9170\n",
      "Epoch 9/12\n",
      "37500/37500 [==============================] - 4s 116us/step - loss: 0.1985 - acc: 0.9221 - val_loss: 0.2079 - val_acc: 0.9172\n",
      "Epoch 10/12\n",
      "37500/37500 [==============================] - 4s 114us/step - loss: 0.1977 - acc: 0.9225 - val_loss: 0.2077 - val_acc: 0.9169\n",
      "Epoch 11/12\n",
      "37500/37500 [==============================] - 4s 114us/step - loss: 0.1970 - acc: 0.9226 - val_loss: 0.2069 - val_acc: 0.9177\n",
      "Epoch 12/12\n",
      "37500/37500 [==============================] - 4s 115us/step - loss: 0.1974 - acc: 0.9225 - val_loss: 0.2066 - val_acc: 0.9178\n"
     ]
    },
    {
     "data": {
      "image/png": "[encoded data removed]",
      "text/plain": [
       "<Figure size 432x288 with 1 Axes>"
      ]
     },
     "metadata": {
      "needs_background": "light"
     },
     "output_type": "display_data"
    },
    {
     "name": "stdout",
     "output_type": "stream",
     "text": [
      "10000/10000 [==============================] - 1s 70us/step\n",
      "accuracy =  0.9178499738693238\n"
     ]
    }
   ],
   "source": [
    "compile_model('binary_crossentropy')"
   ]
  },
  {
   "cell_type": "code",
   "execution_count": null,
   "metadata": {},
   "outputs": [],
   "source": []
  }
 ],
 "metadata": {
  "colab": {
   "name": "Day71-使用損失函數_HW.ipynb",
   "provenance": [],
   "version": "0.3.2"
  },
  "kernelspec": {
   "display_name": "Python 3",
   "language": "python",
   "name": "python3"
  },
  "language_info": {
   "codemirror_mode": {
    "name": "ipython",
    "version": 3
   },
   "file_extension": ".py",
   "mimetype": "text/x-python",
   "name": "python",
   "nbconvert_exporter": "python",
   "pygments_lexer": "ipython3",
   "version": "3.6.8"
  }
 },
 "nbformat": 4,
 "nbformat_minor": 1
}
