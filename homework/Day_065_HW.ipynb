{
 "cells": [
  {
   "cell_type": "markdown",
   "metadata": {},
   "source": [
    "# 作業\n",
    "* 選擇分類資料集(右下)-螺旋雙臂 - 交錯六群，限定特徵只能使用前兩個，隱藏層 2 層滿 (共 8 * 2 =16 個神經元)，  \n",
    "  遞迴次數只允許跑到500次，但可以自由調整 批次大小、學習速率、啟動函數、正規化選項與參數\n",
    "* 在上述限制下，挑戰看看測試誤差 (Test Loss) 最低能到多少? 請回答你的上述幾項參數與 Test Loss 數"
   ]
  },
  {
   "cell_type": "code",
   "execution_count": 1,
   "metadata": {},
   "outputs": [
    {
     "name": "stdout",
     "output_type": "stream",
     "text": [
      "  Learning rate Activation Regularization Regularization rate  Test Loss\n",
      "0          0.01       ReLU           None               0.001      0.499\n",
      "1          0.01       ReLU             L1               0.001      0.475\n",
      "2          0.01       ReLU             L2               0.001      0.439\n",
      "3          0.01       Tanh             L2               0.001      0.471\n",
      "4          0.01    Sigmoid             L2               0.001      0.471\n",
      "5          0.03       ReLU             L2               0.001      0.152\n",
      "6          0.03    Sigmoid             L2               0.001      0.469\n",
      "7          0.03       Tanh             L2               0.001      0.220\n"
     ]
    }
   ],
   "source": [
    "import pandas as pd\n",
    "\n",
    "df = pd.DataFrame({\"Learning rate\" : [\"0.01\",\"0.01\",\"0.01\", \"0.01\",\"0.01\", \"0.03\",\"0.03\",\"0.03\"],\n",
    "                   \"Activation\" : [\"ReLU\",\"ReLU\",\"ReLU\", \"Tanh\",\"Sigmoid\", \"ReLU\",\"Sigmoid\",\"Tanh\"],\n",
    "                   \"Regularization\" : [\"None\",\"L1\",\"L2\", \"L2\",\"L2\", \"L2\",\"L2\",\"L2\"],\n",
    "                   \"Regularization rate\" : [\"0.001\",\"0.001\",\"0.001\", \"0.001\",\"0.001\", \"0.001\",\"0.001\",\"0.001\"],\n",
    "                   \"Test Loss\" : [0.499,0.475,0.439, 0.471,0.471, 0.152,0.469,0.220]})\n",
    "print(df)"
   ]
  },
  {
   "cell_type": "markdown",
   "metadata": {
    "collapsed": true
   },
   "source": []
  }
 ],
 "metadata": {
  "kernelspec": {
   "display_name": "Python 3",
   "language": "python",
   "name": "python3"
  },
  "language_info": {
   "codemirror_mode": {
    "name": "ipython",
    "version": 3
   },
   "file_extension": ".py",
   "mimetype": "text/x-python",
   "name": "python",
   "nbconvert_exporter": "python",
   "pygments_lexer": "ipython3",
   "version": "3.6.9"
  }
 },
 "nbformat": 4,
 "nbformat_minor": 2
}
