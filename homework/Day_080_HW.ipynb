{
 "cells": [
  {
   "cell_type": "markdown",
   "metadata": {},
   "source": [
    "# 請結合前面的知識與程式碼，比較不同的 optimizer 與 learning rate 組合對訓練的結果與影響\n",
    "### 常見的 optimizer 包含\n",
    "* SGD\n",
    "* RMSprop\n",
    "* AdaGrad\n",
    "* Adam"
   ]
  },
  {
   "cell_type": "code",
   "execution_count": 1,
   "metadata": {},
   "outputs": [
    {
     "name": "stderr",
     "output_type": "stream",
     "text": [
      "Using TensorFlow backend.\n"
     ]
    }
   ],
   "source": [
    "import os\n",
    "import keras\n",
    "\n",
    "# Disable GPU\n",
    "os.environ[\"CUDA_VISIBLE_DEVICES\"] = \"0\"\n",
    "\n",
    "import tensorflow as tf\n",
    "from keras.backend.tensorflow_backend import set_session\n",
    "config = tf.ConfigProto()\n",
    "config.gpu_options.allocator_type = 'BFC' #A \"Best-fit with coalescing\" algorithm, simplified from a version of dlmalloc.\n",
    "config.gpu_options.per_process_gpu_memory_fraction = 0.3\n",
    "config.gpu_options.allow_growth = True\n",
    "set_session(tf.Session(config=config))"
   ]
  },
  {
   "cell_type": "code",
   "execution_count": 2,
   "metadata": {},
   "outputs": [],
   "source": [
    "train, test = keras.datasets.cifar10.load_data()"
   ]
  },
  {
   "cell_type": "code",
   "execution_count": 3,
   "metadata": {},
   "outputs": [],
   "source": [
    "## 資料前處理\n",
    "def preproc_x(x, flatten=True):\n",
    "    x = x / 255.\n",
    "    if flatten:\n",
    "        x = x.reshape((len(x), -1))\n",
    "    return x\n",
    "\n",
    "def preproc_y(y, num_classes=10):\n",
    "    if y.shape[-1] == 1:\n",
    "        y = keras.utils.to_categorical(y, num_classes)\n",
    "    return y    "
   ]
  },
  {
   "cell_type": "code",
   "execution_count": 4,
   "metadata": {},
   "outputs": [],
   "source": [
    "x_train, y_train = train\n",
    "x_test, y_test = test\n",
    "\n",
    "# Preproc the inputs\n",
    "x_train = preproc_x(x_train)\n",
    "x_test = preproc_x(x_test)\n",
    "\n",
    "# Preprc the outputs\n",
    "y_train = preproc_y(y_train)\n",
    "y_test = preproc_y(y_test)"
   ]
  },
  {
   "cell_type": "code",
   "execution_count": 5,
   "metadata": {},
   "outputs": [],
   "source": [
    "def build_mlp(input_shape, output_units=10, num_neurons=[512, 256, 128]):\n",
    "    input_layer = keras.layers.Input(input_shape)\n",
    "    \n",
    "    for i, n_units in enumerate(num_neurons):\n",
    "        if i == 0:\n",
    "            x = keras.layers.Dense(units=n_units, activation=\"relu\", name=\"hidden_layer\"+str(i+1))(input_layer)\n",
    "        else:\n",
    "            x = keras.layers.Dense(units=n_units, activation=\"relu\", name=\"hidden_layer\"+str(i+1))(x)\n",
    "    \n",
    "    out = keras.layers.Dense(units=output_units, activation=\"softmax\", name=\"output\")(x)\n",
    "    \n",
    "    model = keras.models.Model(inputs=[input_layer], outputs=[out])\n",
    "    return model"
   ]
  },
  {
   "cell_type": "code",
   "execution_count": 6,
   "metadata": {},
   "outputs": [],
   "source": [
    "# 設定超參數\n",
    "LEARNING_RATE = 0.001 # 0.01\n",
    "EPOCHS = 50\n",
    "BATCH_SIZE = 256\n",
    "MOMENTUM = 0.95\n",
    "DECAY = 1e-8"
   ]
  },
  {
   "cell_type": "code",
   "execution_count": 7,
   "metadata": {
    "scrolled": true
   },
   "outputs": [
    {
     "name": "stdout",
     "output_type": "stream",
     "text": [
      "_________________________________________________________________\n",
      "Layer (type)                 Output Shape              Param #   \n",
      "=================================================================\n",
      "input_1 (InputLayer)         (None, 3072)              0         \n",
      "_________________________________________________________________\n",
      "hidden_layer1 (Dense)        (None, 512)               1573376   \n",
      "_________________________________________________________________\n",
      "hidden_layer2 (Dense)        (None, 256)               131328    \n",
      "_________________________________________________________________\n",
      "hidden_layer3 (Dense)        (None, 128)               32896     \n",
      "_________________________________________________________________\n",
      "output (Dense)               (None, 10)                1290      \n",
      "=================================================================\n",
      "Total params: 1,738,890\n",
      "Trainable params: 1,738,890\n",
      "Non-trainable params: 0\n",
      "_________________________________________________________________\n",
      "Train on 50000 samples, validate on 10000 samples\n",
      "Epoch 1/50\n",
      "50000/50000 [==============================] - 3s 50us/step - loss: 2.0456 - acc: 0.2682 - val_loss: 1.8734 - val_acc: 0.3319\n",
      "Epoch 2/50\n",
      "50000/50000 [==============================] - 2s 40us/step - loss: 1.8110 - acc: 0.3591 - val_loss: 1.7663 - val_acc: 0.3734\n",
      "Epoch 3/50\n",
      "50000/50000 [==============================] - 2s 40us/step - loss: 1.7264 - acc: 0.3915 - val_loss: 1.6915 - val_acc: 0.4041\n",
      "Epoch 4/50\n",
      "50000/50000 [==============================] - 2s 40us/step - loss: 1.6670 - acc: 0.4143 - val_loss: 1.6389 - val_acc: 0.4247\n",
      "Epoch 5/50\n",
      "50000/50000 [==============================] - 2s 40us/step - loss: 1.6191 - acc: 0.4308 - val_loss: 1.6078 - val_acc: 0.4351\n",
      "Epoch 6/50\n",
      "50000/50000 [==============================] - 2s 40us/step - loss: 1.5808 - acc: 0.4444 - val_loss: 1.5723 - val_acc: 0.4466\n",
      "Epoch 7/50\n",
      "50000/50000 [==============================] - 2s 40us/step - loss: 1.5457 - acc: 0.4577 - val_loss: 1.5426 - val_acc: 0.4530\n",
      "Epoch 8/50\n",
      "50000/50000 [==============================] - 2s 39us/step - loss: 1.5161 - acc: 0.4673 - val_loss: 1.5232 - val_acc: 0.4660\n",
      "Epoch 9/50\n",
      "50000/50000 [==============================] - 2s 40us/step - loss: 1.4887 - acc: 0.4777 - val_loss: 1.5455 - val_acc: 0.4553\n",
      "Epoch 10/50\n",
      "50000/50000 [==============================] - 2s 40us/step - loss: 1.4656 - acc: 0.4836 - val_loss: 1.4790 - val_acc: 0.4764\n",
      "Epoch 11/50\n",
      "50000/50000 [==============================] - 2s 39us/step - loss: 1.4390 - acc: 0.4945 - val_loss: 1.4799 - val_acc: 0.4762\n",
      "Epoch 12/50\n",
      "50000/50000 [==============================] - 2s 39us/step - loss: 1.4147 - acc: 0.5027 - val_loss: 1.4556 - val_acc: 0.4863\n",
      "Epoch 13/50\n",
      "50000/50000 [==============================] - 2s 39us/step - loss: 1.3938 - acc: 0.5094 - val_loss: 1.4410 - val_acc: 0.4874\n",
      "Epoch 14/50\n",
      "50000/50000 [==============================] - 2s 39us/step - loss: 1.3706 - acc: 0.5189 - val_loss: 1.4316 - val_acc: 0.4868\n",
      "Epoch 15/50\n",
      "50000/50000 [==============================] - 2s 40us/step - loss: 1.3539 - acc: 0.5245 - val_loss: 1.4519 - val_acc: 0.4829\n",
      "Epoch 16/50\n",
      "50000/50000 [==============================] - 2s 39us/step - loss: 1.3362 - acc: 0.5283 - val_loss: 1.4046 - val_acc: 0.4998\n",
      "Epoch 17/50\n",
      "50000/50000 [==============================] - 2s 40us/step - loss: 1.3151 - acc: 0.5373 - val_loss: 1.3999 - val_acc: 0.4995\n",
      "Epoch 18/50\n",
      "50000/50000 [==============================] - 2s 39us/step - loss: 1.2995 - acc: 0.5426 - val_loss: 1.4030 - val_acc: 0.5015\n",
      "Epoch 19/50\n",
      "50000/50000 [==============================] - 2s 40us/step - loss: 1.2817 - acc: 0.5497 - val_loss: 1.3791 - val_acc: 0.5045\n",
      "Epoch 20/50\n",
      "50000/50000 [==============================] - 2s 40us/step - loss: 1.2653 - acc: 0.5553 - val_loss: 1.3797 - val_acc: 0.5065\n",
      "Epoch 21/50\n",
      "50000/50000 [==============================] - 2s 39us/step - loss: 1.2498 - acc: 0.5613 - val_loss: 1.3880 - val_acc: 0.5046\n",
      "Epoch 22/50\n",
      "50000/50000 [==============================] - 2s 40us/step - loss: 1.2341 - acc: 0.5650 - val_loss: 1.3894 - val_acc: 0.5084\n",
      "Epoch 23/50\n",
      "50000/50000 [==============================] - 2s 40us/step - loss: 1.2181 - acc: 0.5696 - val_loss: 1.3606 - val_acc: 0.5120\n",
      "Epoch 24/50\n",
      "50000/50000 [==============================] - 2s 40us/step - loss: 1.2044 - acc: 0.5765 - val_loss: 1.3769 - val_acc: 0.5144\n",
      "Epoch 25/50\n",
      "50000/50000 [==============================] - 2s 41us/step - loss: 1.1886 - acc: 0.5832 - val_loss: 1.3613 - val_acc: 0.5171\n",
      "Epoch 26/50\n",
      "50000/50000 [==============================] - 2s 40us/step - loss: 1.1742 - acc: 0.5880 - val_loss: 1.3407 - val_acc: 0.5189\n",
      "Epoch 27/50\n",
      "50000/50000 [==============================] - 2s 40us/step - loss: 1.1623 - acc: 0.5918 - val_loss: 1.3740 - val_acc: 0.5138\n",
      "Epoch 28/50\n",
      "50000/50000 [==============================] - 2s 40us/step - loss: 1.1493 - acc: 0.5950 - val_loss: 1.3427 - val_acc: 0.5254\n",
      "Epoch 29/50\n",
      "50000/50000 [==============================] - 2s 40us/step - loss: 1.1331 - acc: 0.6029 - val_loss: 1.3359 - val_acc: 0.5227\n",
      "Epoch 30/50\n",
      "50000/50000 [==============================] - 2s 40us/step - loss: 1.1195 - acc: 0.6072 - val_loss: 1.4478 - val_acc: 0.4946\n",
      "Epoch 31/50\n",
      "50000/50000 [==============================] - 2s 40us/step - loss: 1.1093 - acc: 0.6102 - val_loss: 1.3282 - val_acc: 0.5293\n",
      "Epoch 32/50\n",
      "50000/50000 [==============================] - 2s 40us/step - loss: 1.0964 - acc: 0.6155 - val_loss: 1.3419 - val_acc: 0.5226\n",
      "Epoch 33/50\n",
      "50000/50000 [==============================] - 2s 39us/step - loss: 1.0826 - acc: 0.6189 - val_loss: 1.3269 - val_acc: 0.5277\n",
      "Epoch 34/50\n",
      "50000/50000 [==============================] - 2s 40us/step - loss: 1.0688 - acc: 0.6242 - val_loss: 1.3324 - val_acc: 0.5325\n",
      "Epoch 35/50\n",
      "50000/50000 [==============================] - 2s 40us/step - loss: 1.0572 - acc: 0.6286 - val_loss: 1.3249 - val_acc: 0.5305\n",
      "Epoch 36/50\n",
      "50000/50000 [==============================] - 2s 40us/step - loss: 1.0442 - acc: 0.6321 - val_loss: 1.3673 - val_acc: 0.5211\n",
      "Epoch 37/50\n",
      "50000/50000 [==============================] - 2s 40us/step - loss: 1.0297 - acc: 0.6393 - val_loss: 1.3994 - val_acc: 0.5147\n",
      "Epoch 38/50\n",
      "50000/50000 [==============================] - 2s 40us/step - loss: 1.0182 - acc: 0.6420 - val_loss: 1.3301 - val_acc: 0.5359\n",
      "Epoch 39/50\n",
      "50000/50000 [==============================] - 2s 40us/step - loss: 1.0052 - acc: 0.6456 - val_loss: 1.3616 - val_acc: 0.5220\n",
      "Epoch 40/50\n",
      "50000/50000 [==============================] - 2s 40us/step - loss: 0.9943 - acc: 0.6516 - val_loss: 1.4151 - val_acc: 0.5202\n",
      "Epoch 41/50\n",
      "50000/50000 [==============================] - 2s 39us/step - loss: 0.9845 - acc: 0.6550 - val_loss: 1.3750 - val_acc: 0.5298\n",
      "Epoch 42/50\n",
      "50000/50000 [==============================] - 2s 40us/step - loss: 0.9686 - acc: 0.6591 - val_loss: 1.3975 - val_acc: 0.5174\n",
      "Epoch 43/50\n",
      "50000/50000 [==============================] - 2s 40us/step - loss: 0.9565 - acc: 0.6663 - val_loss: 1.4186 - val_acc: 0.5128\n",
      "Epoch 44/50\n",
      "50000/50000 [==============================] - 2s 39us/step - loss: 0.9482 - acc: 0.6673 - val_loss: 1.3509 - val_acc: 0.5298\n",
      "Epoch 45/50\n",
      "50000/50000 [==============================] - 2s 39us/step - loss: 0.9361 - acc: 0.6728 - val_loss: 1.3874 - val_acc: 0.5229\n",
      "Epoch 46/50\n",
      "50000/50000 [==============================] - 2s 39us/step - loss: 0.9247 - acc: 0.6759 - val_loss: 1.3711 - val_acc: 0.5384\n",
      "Epoch 47/50\n",
      "50000/50000 [==============================] - 2s 39us/step - loss: 0.9099 - acc: 0.6810 - val_loss: 1.4784 - val_acc: 0.5130\n",
      "Epoch 48/50\n",
      "50000/50000 [==============================] - 2s 39us/step - loss: 0.9047 - acc: 0.6832 - val_loss: 1.3992 - val_acc: 0.5296\n",
      "Epoch 49/50\n",
      "50000/50000 [==============================] - 2s 39us/step - loss: 0.8918 - acc: 0.6885 - val_loss: 1.3602 - val_acc: 0.5378\n",
      "Epoch 50/50\n",
      "50000/50000 [==============================] - 2s 40us/step - loss: 0.8750 - acc: 0.6935 - val_loss: 1.3908 - val_acc: 0.5270\n"
     ]
    }
   ],
   "source": [
    "results = {}\n",
    "keras.backend.clear_session() # 把舊的 Graph 清掉\n",
    "model = build_mlp(input_shape=x_train.shape[1:])\n",
    "model.summary()\n",
    "\n",
    "sgd = keras.optimizers.SGD(lr=LEARNING_RATE, decay=DECAY, momentum=MOMENTUM, nesterov=True)\n",
    "rms = keras.optimizers.RMSprop(lr=LEARNING_RATE, epsilon=None, decay=DECAY)\n",
    "adam = keras.optimizers.Adam(lr=LEARNING_RATE, epsilon=None, decay=DECAY)\n",
    "adaGrad =  keras.optimizers.Adagrad(lr=LEARNING_RATE, epsilon=None, decay=DECAY)\n",
    "\n",
    "model.compile(loss=\"categorical_crossentropy\", metrics=[\"accuracy\"], optimizer=sgd)\n",
    "\n",
    "model.fit(x_train, y_train, \n",
    "          epochs=EPOCHS, \n",
    "          batch_size=BATCH_SIZE, \n",
    "          validation_data=(x_test, y_test), \n",
    "          shuffle=True)\n",
    "\n",
    "# Collect results\n",
    "train_loss = model.history.history[\"loss\"]\n",
    "valid_loss = model.history.history[\"val_loss\"]\n",
    "train_acc = model.history.history[\"acc\"]\n",
    "valid_acc = model.history.history[\"val_acc\"]"
   ]
  },
  {
   "cell_type": "code",
   "execution_count": 8,
   "metadata": {},
   "outputs": [
    {
     "data": {
      "image/png": "[encoded data removed]",
      "text/plain": [
       "<Figure size 576x432 with 1 Axes>"
      ]
     },
     "metadata": {
      "needs_background": "light"
     },
     "output_type": "display_data"
    },
    {
     "data": {
      "image/png": "[encoded data removed]",
      "text/plain": [
       "<Figure size 576x432 with 1 Axes>"
      ]
     },
     "metadata": {
      "needs_background": "light"
     },
     "output_type": "display_data"
    }
   ],
   "source": [
    "import matplotlib.pyplot as plt\n",
    "%matplotlib inline\n",
    "\n",
    "plt.figure(figsize=(8,6))\n",
    "plt.plot(range(len(train_loss)),train_loss, '-', label=\"SGD train loss\")\n",
    "plt.plot(range(len(valid_loss)),valid_loss, '--', label=\"SGD valid loss\")\n",
    "plt.title(\"Loss\")\n",
    "plt.legend()\n",
    "plt.show()\n",
    "\n",
    "plt.figure(figsize=(8,6))\n",
    "plt.plot(range(len(train_acc)),train_acc, '-', label=\"SGD train accuracy\")\n",
    "plt.plot(range(len(valid_acc)),valid_acc, '--', label=\"SGD valid accuracy\")\n",
    "plt.title(\"Accuracy\")\n",
    "plt.legend()\n",
    "plt.show()"
   ]
  },
  {
   "cell_type": "code",
   "execution_count": null,
   "metadata": {},
   "outputs": [],
   "source": []
  }
 ],
 "metadata": {
  "kernelspec": {
   "display_name": "Python 3",
   "language": "python",
   "name": "python3"
  },
  "language_info": {
   "codemirror_mode": {
    "name": "ipython",
    "version": 3
   },
   "file_extension": ".py",
   "mimetype": "text/x-python",
   "name": "python",
   "nbconvert_exporter": "python",
   "pygments_lexer": "ipython3",
   "version": "3.6.8"
  }
 },
 "nbformat": 4,
 "nbformat_minor": 2
}
