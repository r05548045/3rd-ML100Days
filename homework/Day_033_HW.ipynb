{
 "cells": [
  {
   "cell_type": "markdown",
   "metadata": {},
   "source": [
    "## 練習時間"
   ]
  },
  {
   "cell_type": "markdown",
   "metadata": {},
   "source": [
    "請觀看李宏毅教授以神奇寶貝進化 CP 值預測的範例，解說何謂機器學習與過擬合。並回答以下問題"
   ]
  },
  {
   "cell_type": "markdown",
   "metadata": {},
   "source": [
    "[youtube](https://www.youtube.com/watch?v=fegAeph9UaA)"
   ]
  },
  {
   "cell_type": "markdown",
   "metadata": {},
   "source": [
    "### 1. 模型的泛化能力 (generalization) 是指什麼？   \n",
    "指的是機器學習算法對新樣本的適應能力。  \n",
    "算法必須使用具有一定規律的數據中經過訓練給予適合的輸出，目的就是學到隱含在數據背後的規律，使其在遇到原有的數據集以外的新的數據時也能夠做出合適的輸出。  \n",
    "### 2. 分類問題與回歸問題分別可用的目標函數有哪些？  \n",
    "1.分類問題：準確率、錯誤率、或者得到混淆矩陣再進一步得到查準率(precision)、查全率(recall)以及P-R曲線和ROC曲線  \n",
    "2.回歸問題：均方誤差(mean squared error)、絕對誤差(absolute Loss)、決定係數(coefficient of determination)以及Huber Loss  "
   ]
  }
 ],
 "metadata": {
  "kernelspec": {
   "display_name": "Python 3",
   "language": "python",
   "name": "python3"
  },
  "language_info": {
   "codemirror_mode": {
    "name": "ipython",
    "version": 3
   },
   "file_extension": ".py",
   "mimetype": "text/x-python",
   "name": "python",
   "nbconvert_exporter": "python",
   "pygments_lexer": "ipython3",
   "version": "3.6.9"
  }
 },
 "nbformat": 4,
 "nbformat_minor": 2
}
