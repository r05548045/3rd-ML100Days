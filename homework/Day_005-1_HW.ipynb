{
 "cells": [
  {
   "cell_type": "markdown",
   "metadata": {},
   "source": [
    "# [作業目標]\n",
    "- 利用範例的創建方式, 創建一組資料, 並練習如何取出最大值"
   ]
  },
  {
   "cell_type": "markdown",
   "metadata": {},
   "source": [
    "# [作業重點]\n",
    "- 練習創立 DataFrame (In[2])\n",
    "- 如何取出口數最多的國家 (In[3], Out[3])"
   ]
  },
  {
   "cell_type": "markdown",
   "metadata": {},
   "source": [
    "## 練習時間\n",
    "在小量的資料上，我們用眼睛就可以看得出來程式碼是否有跑出我們理想中的結果\n",
    "\n",
    "請嘗試想像一個你需要的資料結構 (裡面的值可以是隨機的)，然後用上述的方法把它變成 pandas DataFrame\n",
    "\n",
    "#### Ex: 想像一個 dataframe 有兩個欄位，一個是國家，一個是人口，求人口數最多的國家\n",
    "\n",
    "### Hints: [隨機產生數值](https://blog.csdn.net/christianashannon/article/details/78867204)"
   ]
  },
  {
   "cell_type": "code",
   "execution_count": 1,
   "metadata": {},
   "outputs": [],
   "source": [
    "import pandas as pd\n",
    "import numpy as np\n",
    "import random"
   ]
  },
  {
   "cell_type": "code",
   "execution_count": 4,
   "metadata": {},
   "outputs": [],
   "source": [
    "def randomAlphabet():\n",
    "    connect_empty = ''\n",
    "    return connect_empty.join(random.sample(alphabet, random.randint(5, 10)))"
   ]
  },
  {
   "cell_type": "code",
   "execution_count": 5,
   "metadata": {
    "scrolled": true
   },
   "outputs": [
    {
     "name": "stdout",
     "output_type": "stream",
     "text": [
      "            國家       人口\n",
      "0   opdyRXwqHF  2952996\n",
      "1   kQeJgiHhqB  7641985\n",
      "2    stuayoTwL  9230750\n",
      "3   kDtpIAlLdZ  2984120\n",
      "4     LphFDdHO  2761778\n",
      "5        eTCUR  7158215\n",
      "6      TGqJzeZ  8252464\n",
      "7       DqItQB   635332\n",
      "8       HRLkbI  3396834\n",
      "9       IVDAXg  4539223\n",
      "10   zKrcTXqGD   232471\n",
      "11    cljyGwpm  4302085\n",
      "12  kisntgdQZO  6385130\n",
      "13    wlNuxSfd  4752142\n",
      "14  zKxJkYseQd  8329668\n"
     ]
    }
   ],
   "source": [
    "numNation = 15\n",
    "alphabet_big = [chr(i) for i in range(ord('A'), ord('Z') + 1)]\n",
    "alphabet_small = [chr(i) for i in range(ord('a'), ord('z') + 1)]\n",
    "alphabet = alphabet_big + alphabet_small\n",
    "\n",
    "country = [randomAlphabet() for i in range(numNation)]\n",
    "population = [np.random.randint(10000, 10000000) for i in range(numNation)]\n",
    "data = {\"國家\":country, \"人口\":population}\n",
    "data = pd.DataFrame(data)\n",
    "print(data)"
   ]
  },
  {
   "cell_type": "code",
   "execution_count": 6,
   "metadata": {},
   "outputs": [
    {
     "name": "stdout",
     "output_type": "stream",
     "text": [
      "人口最多的國家 :  stuayoTwL\n",
      "人口數 : 9230750\n"
     ]
    }
   ],
   "source": [
    "maxPopulation = np.amax(population)\n",
    "maxIndex = np.where(population == maxPopulation)\n",
    "print('人口最多的國家 : ', country[maxIndex[0][0]])\n",
    "print('人口數 :', maxPopulation)"
   ]
  },
  {
   "cell_type": "code",
   "execution_count": null,
   "metadata": {},
   "outputs": [],
   "source": []
  }
 ],
 "metadata": {
  "kernelspec": {
   "display_name": "Python 3",
   "language": "python",
   "name": "python3"
  },
  "language_info": {
   "codemirror_mode": {
    "name": "ipython",
    "version": 3
   },
   "file_extension": ".py",
   "mimetype": "text/x-python",
   "name": "python",
   "nbconvert_exporter": "python",
   "pygments_lexer": "ipython3",
   "version": "3.6.9"
  }
 },
 "nbformat": 4,
 "nbformat_minor": 2
}
