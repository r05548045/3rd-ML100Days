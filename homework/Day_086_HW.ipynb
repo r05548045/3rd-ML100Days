{
 "cells": [
  {
   "cell_type": "markdown",
   "metadata": {},
   "source": [
    "## Work\n",
    "1. 試比較 save_best_only 與否的差異\n",
    "2. 請僅存入將 save_weights_only 設定為 True, 並嘗試 reset ipynb 並將模型與權重重新建回並預測 x_test"
   ]
  },
  {
   "cell_type": "code",
   "execution_count": 1,
   "metadata": {},
   "outputs": [
    {
     "name": "stderr",
     "output_type": "stream",
     "text": [
      "Using TensorFlow backend.\n"
     ]
    }
   ],
   "source": [
    "import os\n",
    "import keras\n",
    "\n",
    "# Disable GPU\n",
    "os.environ[\"CUDA_VISIBLE_DEVICES\"] = \"0\""
   ]
  },
  {
   "cell_type": "code",
   "execution_count": 2,
   "metadata": {},
   "outputs": [],
   "source": [
    "train, test = keras.datasets.cifar10.load_data()"
   ]
  },
  {
   "cell_type": "code",
   "execution_count": 3,
   "metadata": {},
   "outputs": [],
   "source": [
    "## 資料前處理\n",
    "def preproc_x(x, flatten=True):\n",
    "    x = x / 255.\n",
    "    if flatten:\n",
    "        x = x.reshape((len(x), -1))\n",
    "    return x\n",
    "\n",
    "def preproc_y(y, num_classes=10):\n",
    "    if y.shape[-1] == 1:\n",
    "        y = keras.utils.to_categorical(y, num_classes)\n",
    "    return y    "
   ]
  },
  {
   "cell_type": "code",
   "execution_count": 4,
   "metadata": {},
   "outputs": [],
   "source": [
    "x_train, y_train = train\n",
    "x_test, y_test = test\n",
    "\n",
    "# Preproc the inputs\n",
    "x_train = preproc_x(x_train)\n",
    "x_test = preproc_x(x_test)\n",
    "\n",
    "# Preprc the outputs\n",
    "y_train = preproc_y(y_train)\n",
    "y_test = preproc_y(y_test)"
   ]
  },
  {
   "cell_type": "code",
   "execution_count": 5,
   "metadata": {},
   "outputs": [],
   "source": [
    "from keras.layers import BatchNormalization\n",
    "\n",
    "def build_mlp(input_shape, output_units=10, num_neurons=[512, 256, 128]):\n",
    "    input_layer = keras.layers.Input(input_shape)\n",
    "    \n",
    "    for i, n_units in enumerate(num_neurons):\n",
    "        if i == 0:\n",
    "            x = keras.layers.Dense(units=n_units, \n",
    "                                   activation=\"relu\", \n",
    "                                   name=\"hidden_layer\"+str(i+1))(input_layer)\n",
    "            x = BatchNormalization()(x)\n",
    "        else:\n",
    "            x = keras.layers.Dense(units=n_units, \n",
    "                                   activation=\"relu\", \n",
    "                                   name=\"hidden_layer\"+str(i+1))(x)\n",
    "            x = BatchNormalization()(x)\n",
    "    \n",
    "    out = keras.layers.Dense(units=output_units, activation=\"softmax\", name=\"output\")(x)\n",
    "    \n",
    "    model = keras.models.Model(inputs=[input_layer], outputs=[out])\n",
    "    return model"
   ]
  },
  {
   "cell_type": "code",
   "execution_count": 6,
   "metadata": {},
   "outputs": [],
   "source": [
    "## 超參數設定\n",
    "LEARNING_RATE = 1e-3\n",
    "EPOCHS = 50\n",
    "BATCH_SIZE = 1024\n",
    "MOMENTUM = 0.95"
   ]
  },
  {
   "cell_type": "code",
   "execution_count": 7,
   "metadata": {},
   "outputs": [
    {
     "name": "stdout",
     "output_type": "stream",
     "text": [
      "_________________________________________________________________\n",
      "Layer (type)                 Output Shape              Param #   \n",
      "=================================================================\n",
      "input_1 (InputLayer)         (None, 3072)              0         \n",
      "_________________________________________________________________\n",
      "hidden_layer1 (Dense)        (None, 512)               1573376   \n",
      "_________________________________________________________________\n",
      "batch_normalization_1 (Batch (None, 512)               2048      \n",
      "_________________________________________________________________\n",
      "hidden_layer2 (Dense)        (None, 256)               131328    \n",
      "_________________________________________________________________\n",
      "batch_normalization_2 (Batch (None, 256)               1024      \n",
      "_________________________________________________________________\n",
      "hidden_layer3 (Dense)        (None, 128)               32896     \n",
      "_________________________________________________________________\n",
      "batch_normalization_3 (Batch (None, 128)               512       \n",
      "_________________________________________________________________\n",
      "output (Dense)               (None, 10)                1290      \n",
      "=================================================================\n",
      "Total params: 1,742,474\n",
      "Trainable params: 1,740,682\n",
      "Non-trainable params: 1,792\n",
      "_________________________________________________________________\n",
      "Train on 50000 samples, validate on 10000 samples\n",
      "Epoch 1/50\n",
      "50000/50000 [==============================] - 4s 74us/step - loss: 2.1929 - acc: 0.2710 - val_loss: 2.1311 - val_acc: 0.2991\n",
      "Epoch 2/50\n",
      "50000/50000 [==============================] - 2s 32us/step - loss: 1.7418 - acc: 0.3938 - val_loss: 1.7868 - val_acc: 0.3755\n",
      "Epoch 3/50\n",
      "50000/50000 [==============================] - 2s 32us/step - loss: 1.6185 - acc: 0.4345 - val_loss: 1.6894 - val_acc: 0.4084\n",
      "Epoch 4/50\n",
      "50000/50000 [==============================] - 2s 33us/step - loss: 1.5467 - acc: 0.4590 - val_loss: 1.6391 - val_acc: 0.4257\n",
      "Epoch 5/50\n",
      "50000/50000 [==============================] - 2s 32us/step - loss: 1.4929 - acc: 0.4777 - val_loss: 1.6081 - val_acc: 0.4346\n",
      "Epoch 6/50\n",
      "50000/50000 [==============================] - 2s 32us/step - loss: 1.4494 - acc: 0.4937 - val_loss: 1.5940 - val_acc: 0.4397\n",
      "Epoch 7/50\n",
      "50000/50000 [==============================] - 2s 32us/step - loss: 1.4100 - acc: 0.5087 - val_loss: 1.5461 - val_acc: 0.4563\n",
      "Epoch 8/50\n",
      "50000/50000 [==============================] - 2s 32us/step - loss: 1.3751 - acc: 0.5219 - val_loss: 1.5513 - val_acc: 0.4563\n",
      "Epoch 9/50\n",
      "50000/50000 [==============================] - 2s 32us/step - loss: 1.3425 - acc: 0.5322 - val_loss: 1.5225 - val_acc: 0.4629\n",
      "Epoch 10/50\n",
      "50000/50000 [==============================] - 2s 32us/step - loss: 1.3139 - acc: 0.5431 - val_loss: 1.5009 - val_acc: 0.4691\n",
      "Epoch 11/50\n",
      "50000/50000 [==============================] - 2s 32us/step - loss: 1.2857 - acc: 0.5520 - val_loss: 1.4971 - val_acc: 0.4722\n",
      "Epoch 12/50\n",
      "50000/50000 [==============================] - 2s 32us/step - loss: 1.2622 - acc: 0.5630 - val_loss: 1.4866 - val_acc: 0.4746\n",
      "Epoch 13/50\n",
      "50000/50000 [==============================] - 2s 32us/step - loss: 1.2357 - acc: 0.5725 - val_loss: 1.4675 - val_acc: 0.4807\n",
      "Epoch 14/50\n",
      "50000/50000 [==============================] - 2s 32us/step - loss: 1.2097 - acc: 0.5831 - val_loss: 1.4882 - val_acc: 0.4809\n",
      "Epoch 15/50\n",
      "50000/50000 [==============================] - 2s 32us/step - loss: 1.1868 - acc: 0.5897 - val_loss: 1.4865 - val_acc: 0.4777\n",
      "Epoch 16/50\n",
      "50000/50000 [==============================] - 2s 32us/step - loss: 1.1645 - acc: 0.5969 - val_loss: 1.4617 - val_acc: 0.4871\n",
      "Epoch 17/50\n",
      "50000/50000 [==============================] - 2s 32us/step - loss: 1.1405 - acc: 0.6071 - val_loss: 1.4532 - val_acc: 0.4855\n",
      "Epoch 18/50\n",
      "50000/50000 [==============================] - 2s 32us/step - loss: 1.1180 - acc: 0.6150 - val_loss: 1.4694 - val_acc: 0.4858\n",
      "Epoch 19/50\n",
      "50000/50000 [==============================] - 2s 32us/step - loss: 1.0963 - acc: 0.6243 - val_loss: 1.4513 - val_acc: 0.4929\n",
      "Epoch 20/50\n",
      "50000/50000 [==============================] - 2s 32us/step - loss: 1.0745 - acc: 0.6320 - val_loss: 1.4521 - val_acc: 0.4928\n",
      "Epoch 21/50\n",
      "50000/50000 [==============================] - 2s 32us/step - loss: 1.0538 - acc: 0.6392 - val_loss: 1.4681 - val_acc: 0.4900\n",
      "Epoch 22/50\n",
      "50000/50000 [==============================] - 2s 32us/step - loss: 1.0312 - acc: 0.6482 - val_loss: 1.4595 - val_acc: 0.4942\n",
      "Epoch 23/50\n",
      "50000/50000 [==============================] - 2s 32us/step - loss: 1.0106 - acc: 0.6568 - val_loss: 1.4628 - val_acc: 0.4910\n",
      "Epoch 24/50\n",
      "50000/50000 [==============================] - 2s 32us/step - loss: 0.9911 - acc: 0.6662 - val_loss: 1.4589 - val_acc: 0.4953\n",
      "Epoch 25/50\n",
      "50000/50000 [==============================] - 2s 32us/step - loss: 0.9693 - acc: 0.6734 - val_loss: 1.4681 - val_acc: 0.4905\n",
      "Epoch 26/50\n",
      "50000/50000 [==============================] - 2s 32us/step - loss: 0.9491 - acc: 0.6819 - val_loss: 1.4856 - val_acc: 0.4895\n",
      "Epoch 27/50\n",
      "50000/50000 [==============================] - 2s 32us/step - loss: 0.9301 - acc: 0.6875 - val_loss: 1.4776 - val_acc: 0.4915\n",
      "Epoch 28/50\n",
      "50000/50000 [==============================] - 2s 32us/step - loss: 0.9097 - acc: 0.6950 - val_loss: 1.4882 - val_acc: 0.4974\n",
      "Epoch 29/50\n",
      "50000/50000 [==============================] - 2s 32us/step - loss: 0.8908 - acc: 0.7031 - val_loss: 1.4923 - val_acc: 0.4865\n",
      "Epoch 30/50\n",
      "50000/50000 [==============================] - 2s 32us/step - loss: 0.8729 - acc: 0.7090 - val_loss: 1.4805 - val_acc: 0.4983\n",
      "Epoch 31/50\n",
      "50000/50000 [==============================] - 2s 32us/step - loss: 0.8537 - acc: 0.7183 - val_loss: 1.5045 - val_acc: 0.4946\n",
      "Epoch 32/50\n",
      "50000/50000 [==============================] - 2s 32us/step - loss: 0.8323 - acc: 0.7268 - val_loss: 1.4985 - val_acc: 0.4943\n",
      "Epoch 33/50\n",
      "50000/50000 [==============================] - 2s 32us/step - loss: 0.8128 - acc: 0.7356 - val_loss: 1.4946 - val_acc: 0.4963\n",
      "Epoch 34/50\n",
      "50000/50000 [==============================] - 2s 32us/step - loss: 0.7948 - acc: 0.7409 - val_loss: 1.5087 - val_acc: 0.4906\n",
      "Epoch 35/50\n",
      "50000/50000 [==============================] - 2s 33us/step - loss: 0.7787 - acc: 0.7469 - val_loss: 1.5088 - val_acc: 0.4995\n",
      "Epoch 36/50\n",
      "50000/50000 [==============================] - 2s 33us/step - loss: 0.7578 - acc: 0.7565 - val_loss: 1.5202 - val_acc: 0.4968\n",
      "Epoch 37/50\n",
      "50000/50000 [==============================] - 2s 33us/step - loss: 0.7387 - acc: 0.7630 - val_loss: 1.5385 - val_acc: 0.4947\n",
      "Epoch 38/50\n",
      "50000/50000 [==============================] - 2s 32us/step - loss: 0.7206 - acc: 0.7697 - val_loss: 1.5342 - val_acc: 0.4959\n",
      "Epoch 39/50\n",
      "50000/50000 [==============================] - 2s 32us/step - loss: 0.7028 - acc: 0.7778 - val_loss: 1.5377 - val_acc: 0.4994\n",
      "Epoch 40/50\n",
      "50000/50000 [==============================] - 2s 32us/step - loss: 0.6831 - acc: 0.7861 - val_loss: 1.5710 - val_acc: 0.4936\n",
      "Epoch 41/50\n",
      "50000/50000 [==============================] - 2s 32us/step - loss: 0.6664 - acc: 0.7918 - val_loss: 1.5603 - val_acc: 0.4909\n",
      "Epoch 42/50\n",
      "50000/50000 [==============================] - 2s 32us/step - loss: 0.6487 - acc: 0.7978 - val_loss: 1.5806 - val_acc: 0.4939\n",
      "Epoch 43/50\n",
      "50000/50000 [==============================] - 2s 32us/step - loss: 0.6314 - acc: 0.8063 - val_loss: 1.5716 - val_acc: 0.4974\n",
      "Epoch 44/50\n",
      "50000/50000 [==============================] - 2s 31us/step - loss: 0.6126 - acc: 0.8127 - val_loss: 1.5964 - val_acc: 0.4913\n",
      "Epoch 45/50\n",
      "50000/50000 [==============================] - 2s 31us/step - loss: 0.5969 - acc: 0.8183 - val_loss: 1.6020 - val_acc: 0.4910\n",
      "Epoch 46/50\n",
      "50000/50000 [==============================] - 2s 32us/step - loss: 0.5767 - acc: 0.8284 - val_loss: 1.6246 - val_acc: 0.4860\n",
      "Epoch 47/50\n",
      "50000/50000 [==============================] - 2s 31us/step - loss: 0.5611 - acc: 0.8348 - val_loss: 1.6247 - val_acc: 0.4928\n",
      "Epoch 48/50\n",
      "50000/50000 [==============================] - 2s 31us/step - loss: 0.5441 - acc: 0.8396 - val_loss: 1.6545 - val_acc: 0.4919\n",
      "Epoch 49/50\n",
      "50000/50000 [==============================] - 2s 31us/step - loss: 0.5280 - acc: 0.8469 - val_loss: 1.6495 - val_acc: 0.4920\n"
     ]
    },
    {
     "name": "stdout",
     "output_type": "stream",
     "text": [
      "Epoch 50/50\n",
      "50000/50000 [==============================] - 2s 31us/step - loss: 0.5121 - acc: 0.8526 - val_loss: 1.6746 - val_acc: 0.4824\n",
      "10000/10000 [==============================] - 0s 46us/step\n"
     ]
    }
   ],
   "source": [
    "# 載入 Callbacks\n",
    "from keras.callbacks import ModelCheckpoint\n",
    "\n",
    "model_ckpt = ModelCheckpoint(filepath=\"./tmp.h5\", \n",
    "                             monitor=\"val_loss\", \n",
    "                             save_best_only=True)\n",
    "\n",
    "results = {}\n",
    "\"\"\"Code Here\n",
    "撰寫你的訓練流程並將結果用 dictionary 紀錄\n",
    "\"\"\"\n",
    "model = build_mlp(input_shape=x_train.shape[1:])\n",
    "model.summary()\n",
    "optimizer = keras.optimizers.SGD(lr=LEARNING_RATE, nesterov=True, momentum=MOMENTUM)\n",
    "model.compile(loss=\"categorical_crossentropy\", metrics=[\"accuracy\"], optimizer=optimizer)\n",
    "\n",
    "model.fit(x_train, y_train, \n",
    "          epochs=EPOCHS, \n",
    "          batch_size=BATCH_SIZE, \n",
    "          validation_data=(x_test, y_test), \n",
    "          shuffle=True,\n",
    "          callbacks=[model_ckpt]\n",
    "         )\n",
    "\n",
    "# Collect results\n",
    "train_loss = model.history.history[\"loss\"]\n",
    "valid_loss = model.history.history[\"val_loss\"]\n",
    "train_acc = model.history.history[\"acc\"]\n",
    "valid_acc = model.history.history[\"val_acc\"]\n",
    "\n",
    "# Load back\n",
    "model = keras.models.load_model(\"./tmp.h5\")\n",
    "loss_loadback, acc_loadback = model.evaluate(x_test, y_test)\n",
    "\n",
    "results = {'train-loss': train_loss,\n",
    "           'valid-loss': valid_loss,\n",
    "           'train-acc': train_acc,\n",
    "           'valid-acc': valid_acc}"
   ]
  },
  {
   "cell_type": "code",
   "execution_count": 8,
   "metadata": {
    "scrolled": true
   },
   "outputs": [
    {
     "data": {
      "image/png": "[encoded data removed]",
      "text/plain": [
       "<Figure size 432x288 with 1 Axes>"
      ]
     },
     "metadata": {
      "needs_background": "light"
     },
     "output_type": "display_data"
    },
    {
     "data": {
      "image/png": "[encoded data removed]",
      "text/plain": [
       "<Figure size 432x288 with 1 Axes>"
      ]
     },
     "metadata": {
      "needs_background": "light"
     },
     "output_type": "display_data"
    }
   ],
   "source": [
    "import matplotlib.pyplot as plt\n",
    "%matplotlib inline\n",
    "\"\"\"Code Here\n",
    "將結果繪出\n",
    "\"\"\"\n",
    "\n",
    "plt.plot(range(len(train_loss)), train_loss, label=\"train loss\")\n",
    "plt.plot(range(len(valid_loss)), valid_loss, label=\"valid loss\")\n",
    "plt.legend()\n",
    "plt.title(\"Loss\")\n",
    "plt.show()\n",
    "\n",
    "plt.plot(range(len(train_acc)), train_acc, label=\"train accuracy\")\n",
    "plt.plot(range(len(valid_acc)), valid_acc, label=\"valid accuracy\")\n",
    "plt.legend()\n",
    "plt.title(\"Accuracy\")\n",
    "plt.show()"
   ]
  },
  {
   "cell_type": "code",
   "execution_count": null,
   "metadata": {},
   "outputs": [],
   "source": []
  }
 ],
 "metadata": {
  "kernelspec": {
   "display_name": "Python 3",
   "language": "python",
   "name": "python3"
  },
  "language_info": {
   "codemirror_mode": {
    "name": "ipython",
    "version": 3
   },
   "file_extension": ".py",
   "mimetype": "text/x-python",
   "name": "python",
   "nbconvert_exporter": "python",
   "pygments_lexer": "ipython3",
   "version": "3.5.6"
  }
 },
 "nbformat": 4,
 "nbformat_minor": 2
}
