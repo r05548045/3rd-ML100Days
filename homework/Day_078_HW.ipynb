{
 "cells": [
  {
   "cell_type": "markdown",
   "metadata": {},
   "source": [
    "## Work\n",
    "1. 請嘗試將 preproc_x 替換成以每筆資料的 min/max 進行標準化至 -1 ~ 1 間，再進行訓練\n",
    "2. 請嘗試將 mlp 疊更深 (e.g 5~10 層)，進行訓練後觀察 learning curve 的走勢\n",
    "3. (optional) 請改用 GPU 進行訓練 (如果你有 GPU 的話)，比較使用 CPU 與 GPU 的訓練速度"
   ]
  },
  {
   "cell_type": "code",
   "execution_count": 1,
   "metadata": {},
   "outputs": [
    {
     "name": "stderr",
     "output_type": "stream",
     "text": [
      "Using TensorFlow backend.\n"
     ]
    }
   ],
   "source": [
    "## 確認硬體資源\n",
    "# !nvidia-smi\n",
    "import os\n",
    "import keras\n",
    "\n",
    "# 請嘗試設定 GPU：os.environ\n",
    "os.environ[\"CUDA_VISIBLE_DEVICES\"] = \"0\""
   ]
  },
  {
   "cell_type": "code",
   "execution_count": 2,
   "metadata": {},
   "outputs": [],
   "source": [
    "train, test = keras.datasets.cifar10.load_data()"
   ]
  },
  {
   "cell_type": "code",
   "execution_count": 3,
   "metadata": {},
   "outputs": [],
   "source": [
    "def preproc_x(x, flatten=True):\n",
    "    x = (x - x.min()) / (x.max() - x.min()) * 2 - 1\n",
    "    if flatten:\n",
    "        x = x.reshape((len(x), -1))\n",
    "    return x\n",
    "\n",
    "def preproc_y(y, num_classes=10):\n",
    "    if y.shape[-1] == 1:\n",
    "        y = keras.utils.to_categorical(y, num_classes)\n",
    "    return y    "
   ]
  },
  {
   "cell_type": "code",
   "execution_count": 4,
   "metadata": {},
   "outputs": [],
   "source": [
    "x_train, y_train = train\n",
    "x_test, y_test = test\n",
    "\n",
    "# Preproc the inputs\n",
    "x_train = preproc_x(x_train)\n",
    "x_test = preproc_x(x_test)\n",
    "\n",
    "# Preprc the outputs\n",
    "y_train = preproc_y(y_train)\n",
    "y_test = preproc_y(y_test)"
   ]
  },
  {
   "cell_type": "code",
   "execution_count": 5,
   "metadata": {},
   "outputs": [
    {
     "name": "stdout",
     "output_type": "stream",
     "text": [
      "_________________________________________________________________\n",
      "Layer (type)                 Output Shape              Param #   \n",
      "=================================================================\n",
      "input_1 (InputLayer)         (None, 3072)              0         \n",
      "_________________________________________________________________\n",
      "hidden_layer1 (Dense)        (None, 512)               1573376   \n",
      "_________________________________________________________________\n",
      "hidden_layer2 (Dense)        (None, 256)               131328    \n",
      "_________________________________________________________________\n",
      "hidden_layer3 (Dense)        (None, 128)               32896     \n",
      "_________________________________________________________________\n",
      "hidden_layer4 (Dense)        (None, 64)                8256      \n",
      "_________________________________________________________________\n",
      "hidden_layer5 (Dense)        (None, 32)                2080      \n",
      "_________________________________________________________________\n",
      "output (Dense)               (None, 10)                330       \n",
      "=================================================================\n",
      "Total params: 1,748,266\n",
      "Trainable params: 1,748,266\n",
      "Non-trainable params: 0\n",
      "_________________________________________________________________\n"
     ]
    }
   ],
   "source": [
    "def build_mlp(input_shape, output_units=10, num_neurons=[512, 256, 128, 64, 32]):\n",
    "    input_layer = keras.layers.Input(input_shape)\n",
    "    \n",
    "    for i, n_units in enumerate(num_neurons):\n",
    "        if i == 0:\n",
    "            x = keras.layers.Dense(units=n_units, activation=\"relu\", name=\"hidden_layer\"+str(i+1))(input_layer)\n",
    "        else:\n",
    "            x = keras.layers.Dense(units=n_units, activation=\"relu\", name=\"hidden_layer\"+str(i+1))(x)\n",
    "    \n",
    "    out = keras.layers.Dense(units=output_units, activation=\"softmax\", name=\"output\")(x)\n",
    "    \n",
    "    model = keras.models.Model(inputs=[input_layer], outputs=[out])\n",
    "    return model\n",
    "\n",
    "model = build_mlp(input_shape=x_train.shape[1:])\n",
    "model.summary()"
   ]
  },
  {
   "cell_type": "code",
   "execution_count": 6,
   "metadata": {},
   "outputs": [],
   "source": [
    "## 超參數設定\n",
    "LEARNING_RATE = 0.001\n",
    "EPOCHS = 100\n",
    "BATCH_SIZE = 256"
   ]
  },
  {
   "cell_type": "code",
   "execution_count": 7,
   "metadata": {},
   "outputs": [],
   "source": [
    "optimizer = keras.optimizers.Adam(lr=LEARNING_RATE)\n",
    "model.compile(loss=\"categorical_crossentropy\", metrics=[\"accuracy\"], optimizer=optimizer)"
   ]
  },
  {
   "cell_type": "code",
   "execution_count": 8,
   "metadata": {},
   "outputs": [
    {
     "name": "stdout",
     "output_type": "stream",
     "text": [
      "Train on 50000 samples, validate on 10000 samples\n",
      "Epoch 1/100\n",
      "50000/50000 [==============================] - 4s 79us/step - loss: 1.7068 - acc: 0.3921 - val_loss: 1.5591 - val_acc: 0.4464\n",
      "Epoch 2/100\n",
      "50000/50000 [==============================] - 2s 48us/step - loss: 1.4698 - acc: 0.4805 - val_loss: 1.4596 - val_acc: 0.4834\n",
      "Epoch 3/100\n",
      "50000/50000 [==============================] - 2s 48us/step - loss: 1.3562 - acc: 0.5217 - val_loss: 1.4037 - val_acc: 0.5039\n",
      "Epoch 4/100\n",
      "50000/50000 [==============================] - 2s 48us/step - loss: 1.2633 - acc: 0.5569 - val_loss: 1.3995 - val_acc: 0.5089\n",
      "Epoch 5/100\n",
      "50000/50000 [==============================] - 2s 48us/step - loss: 1.1815 - acc: 0.5843 - val_loss: 1.3791 - val_acc: 0.5155\n",
      "Epoch 6/100\n",
      "50000/50000 [==============================] - 2s 48us/step - loss: 1.1036 - acc: 0.6102 - val_loss: 1.3494 - val_acc: 0.5388\n",
      "Epoch 7/100\n",
      "50000/50000 [==============================] - 2s 48us/step - loss: 1.0313 - acc: 0.6357 - val_loss: 1.3923 - val_acc: 0.5195\n",
      "Epoch 8/100\n",
      "50000/50000 [==============================] - 2s 48us/step - loss: 0.9572 - acc: 0.6597 - val_loss: 1.3765 - val_acc: 0.5350\n",
      "Epoch 9/100\n",
      "50000/50000 [==============================] - 2s 48us/step - loss: 0.8874 - acc: 0.6862 - val_loss: 1.4499 - val_acc: 0.5276\n",
      "Epoch 10/100\n",
      "50000/50000 [==============================] - 2s 48us/step - loss: 0.8277 - acc: 0.7067 - val_loss: 1.4588 - val_acc: 0.5396\n",
      "Epoch 11/100\n",
      "50000/50000 [==============================] - 2s 48us/step - loss: 0.7611 - acc: 0.7303 - val_loss: 1.5044 - val_acc: 0.5392\n",
      "Epoch 12/100\n",
      "50000/50000 [==============================] - 2s 48us/step - loss: 0.7046 - acc: 0.7507 - val_loss: 1.5945 - val_acc: 0.5321\n",
      "Epoch 13/100\n",
      "50000/50000 [==============================] - 2s 48us/step - loss: 0.6412 - acc: 0.7727 - val_loss: 1.5989 - val_acc: 0.5375\n",
      "Epoch 14/100\n",
      "50000/50000 [==============================] - 2s 48us/step - loss: 0.5880 - acc: 0.7919 - val_loss: 1.6748 - val_acc: 0.5383\n",
      "Epoch 15/100\n",
      "50000/50000 [==============================] - 2s 48us/step - loss: 0.5408 - acc: 0.8082 - val_loss: 1.7682 - val_acc: 0.5317\n",
      "Epoch 16/100\n",
      "50000/50000 [==============================] - 2s 48us/step - loss: 0.4837 - acc: 0.8268 - val_loss: 1.8489 - val_acc: 0.5309\n",
      "Epoch 17/100\n",
      "50000/50000 [==============================] - 2s 48us/step - loss: 0.4483 - acc: 0.8419 - val_loss: 1.9480 - val_acc: 0.5302\n",
      "Epoch 18/100\n",
      "50000/50000 [==============================] - 2s 48us/step - loss: 0.4157 - acc: 0.8516 - val_loss: 2.0026 - val_acc: 0.5264\n",
      "Epoch 19/100\n",
      "50000/50000 [==============================] - 2s 48us/step - loss: 0.3811 - acc: 0.8655 - val_loss: 2.1362 - val_acc: 0.5320\n",
      "Epoch 20/100\n",
      "50000/50000 [==============================] - 2s 48us/step - loss: 0.3667 - acc: 0.8703 - val_loss: 2.1846 - val_acc: 0.5307\n",
      "Epoch 21/100\n",
      "50000/50000 [==============================] - 2s 48us/step - loss: 0.3268 - acc: 0.8851 - val_loss: 2.3649 - val_acc: 0.5288\n",
      "Epoch 22/100\n",
      "50000/50000 [==============================] - 2s 48us/step - loss: 0.3086 - acc: 0.8927 - val_loss: 2.3801 - val_acc: 0.5268\n",
      "Epoch 23/100\n",
      "50000/50000 [==============================] - 2s 48us/step - loss: 0.2894 - acc: 0.8987 - val_loss: 2.3829 - val_acc: 0.5341\n",
      "Epoch 24/100\n",
      "50000/50000 [==============================] - 2s 48us/step - loss: 0.2742 - acc: 0.9045 - val_loss: 2.4775 - val_acc: 0.5315\n",
      "Epoch 25/100\n",
      "50000/50000 [==============================] - 2s 48us/step - loss: 0.2499 - acc: 0.9116 - val_loss: 2.6371 - val_acc: 0.5247\n",
      "Epoch 26/100\n",
      "50000/50000 [==============================] - 2s 48us/step - loss: 0.2452 - acc: 0.9147 - val_loss: 2.6218 - val_acc: 0.5306\n",
      "Epoch 27/100\n",
      "50000/50000 [==============================] - 2s 48us/step - loss: 0.2144 - acc: 0.9259 - val_loss: 2.7137 - val_acc: 0.5323\n",
      "Epoch 28/100\n",
      "50000/50000 [==============================] - 2s 48us/step - loss: 0.2180 - acc: 0.9252 - val_loss: 2.8458 - val_acc: 0.5280\n",
      "Epoch 29/100\n",
      "50000/50000 [==============================] - 2s 48us/step - loss: 0.2086 - acc: 0.9273 - val_loss: 2.8025 - val_acc: 0.5325\n",
      "Epoch 30/100\n",
      "50000/50000 [==============================] - 2s 48us/step - loss: 0.2056 - acc: 0.9288 - val_loss: 2.8769 - val_acc: 0.5272\n",
      "Epoch 31/100\n",
      "50000/50000 [==============================] - 2s 48us/step - loss: 0.1987 - acc: 0.9311 - val_loss: 2.9353 - val_acc: 0.5253\n",
      "Epoch 32/100\n",
      "50000/50000 [==============================] - 2s 48us/step - loss: 0.1623 - acc: 0.9437 - val_loss: 3.0113 - val_acc: 0.5337\n",
      "Epoch 33/100\n",
      "50000/50000 [==============================] - 2s 48us/step - loss: 0.1804 - acc: 0.9378 - val_loss: 3.1163 - val_acc: 0.5212\n",
      "Epoch 34/100\n",
      "50000/50000 [==============================] - 2s 48us/step - loss: 0.1790 - acc: 0.9389 - val_loss: 3.1104 - val_acc: 0.5311\n",
      "Epoch 35/100\n",
      "50000/50000 [==============================] - 2s 48us/step - loss: 0.1492 - acc: 0.9483 - val_loss: 3.1737 - val_acc: 0.5302\n",
      "Epoch 36/100\n",
      "50000/50000 [==============================] - 2s 48us/step - loss: 0.1760 - acc: 0.9406 - val_loss: 3.1632 - val_acc: 0.5320\n",
      "Epoch 37/100\n",
      "50000/50000 [==============================] - 2s 48us/step - loss: 0.1546 - acc: 0.9466 - val_loss: 3.1851 - val_acc: 0.5328\n",
      "Epoch 38/100\n",
      "50000/50000 [==============================] - 2s 48us/step - loss: 0.1354 - acc: 0.9534 - val_loss: 3.3440 - val_acc: 0.5259\n",
      "Epoch 39/100\n",
      "50000/50000 [==============================] - 2s 48us/step - loss: 0.1500 - acc: 0.9491 - val_loss: 3.3378 - val_acc: 0.5258\n",
      "Epoch 40/100\n",
      "50000/50000 [==============================] - 2s 48us/step - loss: 0.1514 - acc: 0.9493 - val_loss: 3.2077 - val_acc: 0.5319\n",
      "Epoch 41/100\n",
      "50000/50000 [==============================] - 2s 47us/step - loss: 0.1348 - acc: 0.9544 - val_loss: 3.3260 - val_acc: 0.5324\n",
      "Epoch 42/100\n",
      "50000/50000 [==============================] - 2s 48us/step - loss: 0.1376 - acc: 0.9530 - val_loss: 3.3606 - val_acc: 0.5290\n",
      "Epoch 43/100\n",
      "50000/50000 [==============================] - 2s 47us/step - loss: 0.1300 - acc: 0.9559 - val_loss: 3.3310 - val_acc: 0.5273\n",
      "Epoch 44/100\n",
      "50000/50000 [==============================] - 2s 47us/step - loss: 0.1364 - acc: 0.9532 - val_loss: 3.4037 - val_acc: 0.5340\n",
      "Epoch 45/100\n",
      "50000/50000 [==============================] - 2s 48us/step - loss: 0.1275 - acc: 0.9571 - val_loss: 3.2762 - val_acc: 0.5356\n",
      "Epoch 46/100\n",
      "50000/50000 [==============================] - 2s 47us/step - loss: 0.1126 - acc: 0.9635 - val_loss: 3.3987 - val_acc: 0.5379\n",
      "Epoch 47/100\n",
      "50000/50000 [==============================] - 2s 48us/step - loss: 0.1225 - acc: 0.9594 - val_loss: 3.5490 - val_acc: 0.5196\n",
      "Epoch 48/100\n",
      "50000/50000 [==============================] - 2s 48us/step - loss: 0.1327 - acc: 0.9554 - val_loss: 3.4569 - val_acc: 0.5271\n",
      "Epoch 49/100\n",
      "50000/50000 [==============================] - 2s 47us/step - loss: 0.1186 - acc: 0.9591 - val_loss: 3.4550 - val_acc: 0.5321\n",
      "Epoch 50/100\n",
      "50000/50000 [==============================] - 2s 48us/step - loss: 0.1121 - acc: 0.9619 - val_loss: 3.5505 - val_acc: 0.5322\n",
      "Epoch 51/100\n",
      "50000/50000 [==============================] - 2s 47us/step - loss: 0.1455 - acc: 0.9525 - val_loss: 3.4536 - val_acc: 0.5246\n",
      "Epoch 52/100\n",
      "50000/50000 [==============================] - 2s 47us/step - loss: 0.0945 - acc: 0.9674 - val_loss: 3.4913 - val_acc: 0.5391\n",
      "Epoch 53/100\n",
      "50000/50000 [==============================] - 2s 48us/step - loss: 0.0776 - acc: 0.9744 - val_loss: 3.4913 - val_acc: 0.5347\n",
      "Epoch 54/100\n",
      "50000/50000 [==============================] - 2s 48us/step - loss: 0.1172 - acc: 0.9624 - val_loss: 3.5421 - val_acc: 0.5362\n",
      "Epoch 55/100\n",
      "50000/50000 [==============================] - 2s 47us/step - loss: 0.1216 - acc: 0.9592 - val_loss: 3.5355 - val_acc: 0.5350\n",
      "Epoch 56/100\n",
      "50000/50000 [==============================] - 2s 47us/step - loss: 0.1069 - acc: 0.9651 - val_loss: 3.5836 - val_acc: 0.5335\n",
      "Epoch 57/100\n",
      "50000/50000 [==============================] - 2s 48us/step - loss: 0.1081 - acc: 0.9646 - val_loss: 3.6755 - val_acc: 0.5380\n",
      "Epoch 58/100\n",
      "50000/50000 [==============================] - 2s 48us/step - loss: 0.0937 - acc: 0.9684 - val_loss: 3.4823 - val_acc: 0.5328\n",
      "Epoch 59/100\n"
     ]
    },
    {
     "name": "stdout",
     "output_type": "stream",
     "text": [
      "50000/50000 [==============================] - 2s 48us/step - loss: 0.0913 - acc: 0.9700 - val_loss: 3.6926 - val_acc: 0.5380\n",
      "Epoch 60/100\n",
      "50000/50000 [==============================] - 2s 48us/step - loss: 0.1101 - acc: 0.9635 - val_loss: 3.7224 - val_acc: 0.5358\n",
      "Epoch 61/100\n",
      "50000/50000 [==============================] - 2s 48us/step - loss: 0.0917 - acc: 0.9694 - val_loss: 3.7141 - val_acc: 0.5336\n",
      "Epoch 62/100\n",
      "50000/50000 [==============================] - 2s 47us/step - loss: 0.0929 - acc: 0.9694 - val_loss: 3.6538 - val_acc: 0.5319\n",
      "Epoch 63/100\n",
      "50000/50000 [==============================] - 2s 47us/step - loss: 0.0770 - acc: 0.9754 - val_loss: 3.6625 - val_acc: 0.5304\n",
      "Epoch 64/100\n",
      "50000/50000 [==============================] - 2s 48us/step - loss: 0.1146 - acc: 0.9631 - val_loss: 3.7170 - val_acc: 0.5251\n",
      "Epoch 65/100\n",
      "50000/50000 [==============================] - 2s 48us/step - loss: 0.1016 - acc: 0.9660 - val_loss: 3.6404 - val_acc: 0.5288\n",
      "Epoch 66/100\n",
      "50000/50000 [==============================] - 2s 48us/step - loss: 0.1008 - acc: 0.9673 - val_loss: 3.7242 - val_acc: 0.5332\n",
      "Epoch 67/100\n",
      "50000/50000 [==============================] - 2s 48us/step - loss: 0.0615 - acc: 0.9800 - val_loss: 3.7042 - val_acc: 0.5425\n",
      "Epoch 68/100\n",
      "50000/50000 [==============================] - 2s 48us/step - loss: 0.0729 - acc: 0.9758 - val_loss: 3.8720 - val_acc: 0.5277\n",
      "Epoch 69/100\n",
      "50000/50000 [==============================] - 2s 48us/step - loss: 0.1179 - acc: 0.9616 - val_loss: 3.7472 - val_acc: 0.5318\n",
      "Epoch 70/100\n",
      "50000/50000 [==============================] - 2s 48us/step - loss: 0.0891 - acc: 0.9703 - val_loss: 3.7876 - val_acc: 0.5328\n",
      "Epoch 71/100\n",
      "50000/50000 [==============================] - 2s 48us/step - loss: 0.0828 - acc: 0.9727 - val_loss: 3.7836 - val_acc: 0.5327\n",
      "Epoch 72/100\n",
      "50000/50000 [==============================] - 2s 47us/step - loss: 0.0719 - acc: 0.9756 - val_loss: 3.8921 - val_acc: 0.5302\n",
      "Epoch 73/100\n",
      "50000/50000 [==============================] - 2s 47us/step - loss: 0.0727 - acc: 0.9766 - val_loss: 3.8142 - val_acc: 0.5353\n",
      "Epoch 74/100\n",
      "50000/50000 [==============================] - 2s 47us/step - loss: 0.1015 - acc: 0.9664 - val_loss: 3.8193 - val_acc: 0.5316\n",
      "Epoch 75/100\n",
      "50000/50000 [==============================] - 2s 48us/step - loss: 0.0761 - acc: 0.9752 - val_loss: 3.9090 - val_acc: 0.5304\n",
      "Epoch 76/100\n",
      "50000/50000 [==============================] - 2s 47us/step - loss: 0.0909 - acc: 0.9703 - val_loss: 3.8899 - val_acc: 0.5321\n",
      "Epoch 77/100\n",
      "50000/50000 [==============================] - 2s 48us/step - loss: 0.0741 - acc: 0.9762 - val_loss: 3.8281 - val_acc: 0.5382\n",
      "Epoch 78/100\n",
      "50000/50000 [==============================] - 2s 47us/step - loss: 0.0605 - acc: 0.9804 - val_loss: 3.7954 - val_acc: 0.5397\n",
      "Epoch 79/100\n",
      "50000/50000 [==============================] - 2s 47us/step - loss: 0.0732 - acc: 0.9769 - val_loss: 3.8115 - val_acc: 0.5342\n",
      "Epoch 80/100\n",
      "50000/50000 [==============================] - 2s 48us/step - loss: 0.0843 - acc: 0.9723 - val_loss: 3.7844 - val_acc: 0.5382\n",
      "Epoch 81/100\n",
      "50000/50000 [==============================] - 2s 47us/step - loss: 0.0676 - acc: 0.9782 - val_loss: 3.8028 - val_acc: 0.5329\n",
      "Epoch 82/100\n",
      "50000/50000 [==============================] - 2s 47us/step - loss: 0.0911 - acc: 0.9711 - val_loss: 3.8157 - val_acc: 0.5338\n",
      "Epoch 83/100\n",
      "50000/50000 [==============================] - 2s 48us/step - loss: 0.0813 - acc: 0.9741 - val_loss: 3.9256 - val_acc: 0.5283\n",
      "Epoch 84/100\n",
      "50000/50000 [==============================] - 2s 47us/step - loss: 0.0901 - acc: 0.9708 - val_loss: 3.8198 - val_acc: 0.5318\n",
      "Epoch 85/100\n",
      "50000/50000 [==============================] - 2s 48us/step - loss: 0.0578 - acc: 0.9811 - val_loss: 3.9178 - val_acc: 0.5353\n",
      "Epoch 86/100\n",
      "50000/50000 [==============================] - 2s 47us/step - loss: 0.0636 - acc: 0.9796 - val_loss: 3.9039 - val_acc: 0.5359\n",
      "Epoch 87/100\n",
      "50000/50000 [==============================] - 2s 48us/step - loss: 0.0676 - acc: 0.9776 - val_loss: 3.9290 - val_acc: 0.5337\n",
      "Epoch 88/100\n",
      "50000/50000 [==============================] - 2s 48us/step - loss: 0.0906 - acc: 0.9709 - val_loss: 3.7529 - val_acc: 0.5381\n",
      "Epoch 89/100\n",
      "50000/50000 [==============================] - 2s 48us/step - loss: 0.0653 - acc: 0.9792 - val_loss: 3.8473 - val_acc: 0.5367\n",
      "Epoch 90/100\n",
      "50000/50000 [==============================] - 2s 47us/step - loss: 0.0728 - acc: 0.9768 - val_loss: 3.8565 - val_acc: 0.5311\n",
      "Epoch 91/100\n",
      "50000/50000 [==============================] - 2s 47us/step - loss: 0.0674 - acc: 0.9782 - val_loss: 4.0000 - val_acc: 0.5324\n",
      "Epoch 92/100\n",
      "50000/50000 [==============================] - 2s 47us/step - loss: 0.0750 - acc: 0.9766 - val_loss: 3.7875 - val_acc: 0.5284\n",
      "Epoch 93/100\n",
      "50000/50000 [==============================] - 2s 47us/step - loss: 0.0606 - acc: 0.9804 - val_loss: 3.9551 - val_acc: 0.5369\n",
      "Epoch 94/100\n",
      "50000/50000 [==============================] - 2s 47us/step - loss: 0.0604 - acc: 0.9798 - val_loss: 3.9614 - val_acc: 0.5447\n",
      "Epoch 95/100\n",
      "50000/50000 [==============================] - 2s 47us/step - loss: 0.0553 - acc: 0.9818 - val_loss: 4.0870 - val_acc: 0.5300\n",
      "Epoch 96/100\n",
      "50000/50000 [==============================] - 2s 47us/step - loss: 0.0822 - acc: 0.9735 - val_loss: 3.7398 - val_acc: 0.5358\n",
      "Epoch 97/100\n",
      "50000/50000 [==============================] - 2s 47us/step - loss: 0.0763 - acc: 0.9757 - val_loss: 3.8602 - val_acc: 0.5387\n",
      "Epoch 98/100\n",
      "50000/50000 [==============================] - 2s 48us/step - loss: 0.0555 - acc: 0.9819 - val_loss: 3.9318 - val_acc: 0.5385\n",
      "Epoch 99/100\n",
      "50000/50000 [==============================] - 2s 47us/step - loss: 0.0401 - acc: 0.9872 - val_loss: 4.0461 - val_acc: 0.5306\n",
      "Epoch 100/100\n",
      "50000/50000 [==============================] - 2s 47us/step - loss: 0.0853 - acc: 0.9741 - val_loss: 3.9547 - val_acc: 0.5298\n"
     ]
    },
    {
     "data": {
      "text/plain": [
       "<keras.callbacks.History at 0x26e3d0a2f60>"
      ]
     },
     "execution_count": 8,
     "metadata": {},
     "output_type": "execute_result"
    }
   ],
   "source": [
    "model.fit(x_train, y_train, \n",
    "          epochs=EPOCHS, \n",
    "          batch_size=BATCH_SIZE, \n",
    "          validation_data=(x_test, y_test), \n",
    "          shuffle=True)"
   ]
  },
  {
   "cell_type": "code",
   "execution_count": 10,
   "metadata": {},
   "outputs": [
    {
     "data": {
      "image/png": "[encoded data removed]",
      "text/plain": [
       "<Figure size 432x288 with 1 Axes>"
      ]
     },
     "metadata": {
      "needs_background": "light"
     },
     "output_type": "display_data"
    },
    {
     "data": {
      "image/png": "[encoded data removed]",
      "text/plain": [
       "<Figure size 432x288 with 1 Axes>"
      ]
     },
     "metadata": {
      "needs_background": "light"
     },
     "output_type": "display_data"
    }
   ],
   "source": [
    "import matplotlib.pyplot as plt\n",
    "\n",
    "\n",
    "train_loss = model.history.history[\"loss\"]\n",
    "valid_loss = model.history.history[\"val_loss\"]\n",
    "\n",
    "train_acc = model.history.history[\"acc\"]\n",
    "valid_acc = model.history.history[\"val_acc\"]\n",
    "\n",
    "plt.plot(range(len(train_loss)), train_loss, label=\"train loss\")\n",
    "plt.plot(range(len(valid_loss)), valid_loss, label=\"valid loss\")\n",
    "plt.legend()\n",
    "plt.title(\"Loss\")\n",
    "plt.show()\n",
    "\n",
    "plt.plot(range(len(train_acc)), train_acc, label=\"train accuracy\")\n",
    "plt.plot(range(len(valid_acc)), valid_acc, label=\"valid accuracy\")\n",
    "plt.legend()\n",
    "plt.title(\"Accuracy\")\n",
    "plt.show()"
   ]
  },
  {
   "cell_type": "code",
   "execution_count": null,
   "metadata": {},
   "outputs": [],
   "source": []
  }
 ],
 "metadata": {
  "kernelspec": {
   "display_name": "Python 3",
   "language": "python",
   "name": "python3"
  },
  "language_info": {
   "codemirror_mode": {
    "name": "ipython",
    "version": 3
   },
   "file_extension": ".py",
   "mimetype": "text/x-python",
   "name": "python",
   "nbconvert_exporter": "python",
   "pygments_lexer": "ipython3",
   "version": "3.6.8"
  }
 },
 "nbformat": 4,
 "nbformat_minor": 2
}
