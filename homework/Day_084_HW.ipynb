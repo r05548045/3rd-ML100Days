{
 "cells": [
  {
   "cell_type": "markdown",
   "metadata": {},
   "source": [
    "## Work\n",
    "### 請結合前面的知識與程式碼，比較不同的 regularization 的組合對訓練的結果與影響：如 dropout, regularizers, batch-normalization 等"
   ]
  },
  {
   "cell_type": "code",
   "execution_count": 1,
   "metadata": {},
   "outputs": [
    {
     "name": "stderr",
     "output_type": "stream",
     "text": [
      "Using TensorFlow backend.\n"
     ]
    }
   ],
   "source": [
    "import os\n",
    "import keras\n",
    "import itertools\n",
    "# Disable GPU\n",
    "os.environ[\"CUDA_VISIBLE_DEVICES\"] = \"0\""
   ]
  },
  {
   "cell_type": "code",
   "execution_count": 2,
   "metadata": {},
   "outputs": [],
   "source": [
    "train, test = keras.datasets.cifar10.load_data()"
   ]
  },
  {
   "cell_type": "code",
   "execution_count": 3,
   "metadata": {},
   "outputs": [],
   "source": [
    "## 資料前處理\n",
    "def preproc_x(x, flatten=True):\n",
    "    x = x / 255.\n",
    "    if flatten:\n",
    "        x = x.reshape((len(x), -1))\n",
    "    return x\n",
    "\n",
    "def preproc_y(y, num_classes=10):\n",
    "    if y.shape[-1] == 1:\n",
    "        y = keras.utils.to_categorical(y, num_classes)\n",
    "    return y    "
   ]
  },
  {
   "cell_type": "code",
   "execution_count": 4,
   "metadata": {},
   "outputs": [],
   "source": [
    "x_train, y_train = train\n",
    "x_test, y_test = test\n",
    "\n",
    "# Preproc the inputs\n",
    "x_train = preproc_x(x_train)\n",
    "x_test = preproc_x(x_test)\n",
    "\n",
    "# Preprc the outputs\n",
    "y_train = preproc_y(y_train)\n",
    "y_test = preproc_y(y_test)"
   ]
  },
  {
   "cell_type": "code",
   "execution_count": 5,
   "metadata": {},
   "outputs": [],
   "source": [
    "from keras.regularizers import l1\n",
    "from keras.layers import Dropout\n",
    "from keras.layers import BatchNormalization\n",
    "\n",
    "def build_mlp(input_shape, output_units=10, num_neurons=[512, 256, 128], l1_ratio=1e-4, drp_ratio=0.2):\n",
    "    \n",
    "    input_layer = keras.layers.Input(input_shape)\n",
    "    \n",
    "    for i, n_units in enumerate(num_neurons):\n",
    "        if i == 0:\n",
    "            x = BatchNormalization()(input_layer)\n",
    "            x = keras.layers.Dense(units=n_units, \n",
    "                                   activation=\"relu\", \n",
    "                                   name=\"hidden_layer\"+str(i+1), \n",
    "                                   kernel_regularizer=l1(l1_ratio))(x) # regularization\n",
    "        else:\n",
    "            x = BatchNormalization()(x)\n",
    "            x = keras.layers.Dense(units=n_units, \n",
    "                                   activation=\"relu\", \n",
    "                                   name=\"hidden_layer\"+str(i+1),\n",
    "                                   kernel_regularizer=l1(l1_ratio))(x) # regularization\n",
    "    \n",
    "    x = Dropout(drp_ratio)(x)\n",
    "    out = keras.layers.Dense(units=output_units, activation=\"softmax\", name=\"output\")(x)\n",
    "    \n",
    "    model = keras.models.Model(inputs=[input_layer], outputs=[out])\n",
    "    return model"
   ]
  },
  {
   "cell_type": "code",
   "execution_count": 6,
   "metadata": {},
   "outputs": [],
   "source": [
    "# 設定超參數\n",
    "LEARNING_RATE = 0.001\n",
    "EPOCHS = 50\n",
    "BATCH_SIZE = 256\n",
    "MOMENTUM = 0.95\n",
    "L1_EXP = 1e-8\n",
    "DROP_RATIO = 0.25\n",
    "BATCH_SIZE = 512"
   ]
  },
  {
   "cell_type": "code",
   "execution_count": 7,
   "metadata": {
    "scrolled": true
   },
   "outputs": [
    {
     "name": "stdout",
     "output_type": "stream",
     "text": [
      "_________________________________________________________________\n",
      "Layer (type)                 Output Shape              Param #   \n",
      "=================================================================\n",
      "input_1 (InputLayer)         (None, 3072)              0         \n",
      "_________________________________________________________________\n",
      "batch_normalization_1 (Batch (None, 3072)              12288     \n",
      "_________________________________________________________________\n",
      "hidden_layer1 (Dense)        (None, 512)               1573376   \n",
      "_________________________________________________________________\n",
      "batch_normalization_2 (Batch (None, 512)               2048      \n",
      "_________________________________________________________________\n",
      "hidden_layer2 (Dense)        (None, 256)               131328    \n",
      "_________________________________________________________________\n",
      "batch_normalization_3 (Batch (None, 256)               1024      \n",
      "_________________________________________________________________\n",
      "hidden_layer3 (Dense)        (None, 128)               32896     \n",
      "_________________________________________________________________\n",
      "dropout_1 (Dropout)          (None, 128)               0         \n",
      "_________________________________________________________________\n",
      "output (Dense)               (None, 10)                1290      \n",
      "=================================================================\n",
      "Total params: 1,754,250\n",
      "Trainable params: 1,746,570\n",
      "Non-trainable params: 7,680\n",
      "_________________________________________________________________\n",
      "Train on 50000 samples, validate on 10000 samples\n",
      "Epoch 1/50\n",
      "50000/50000 [==============================] - 4s 83us/step - loss: 2.1248 - acc: 0.2767 - val_loss: 1.7323 - val_acc: 0.3886\n",
      "Epoch 2/50\n",
      "50000/50000 [==============================] - 2s 41us/step - loss: 1.7322 - acc: 0.3909 - val_loss: 1.6155 - val_acc: 0.4287\n",
      "Epoch 3/50\n",
      "50000/50000 [==============================] - 2s 41us/step - loss: 1.6157 - acc: 0.4319 - val_loss: 1.5532 - val_acc: 0.4541\n",
      "Epoch 4/50\n",
      "50000/50000 [==============================] - 2s 41us/step - loss: 1.5396 - acc: 0.4563 - val_loss: 1.5117 - val_acc: 0.4651\n",
      "Epoch 5/50\n",
      "50000/50000 [==============================] - 2s 42us/step - loss: 1.4791 - acc: 0.4771 - val_loss: 1.4822 - val_acc: 0.4756\n",
      "Epoch 6/50\n",
      "50000/50000 [==============================] - 2s 41us/step - loss: 1.4278 - acc: 0.4943 - val_loss: 1.4622 - val_acc: 0.4846\n",
      "Epoch 7/50\n",
      "50000/50000 [==============================] - 2s 42us/step - loss: 1.3925 - acc: 0.5080 - val_loss: 1.4382 - val_acc: 0.4939\n",
      "Epoch 8/50\n",
      "50000/50000 [==============================] - 2s 42us/step - loss: 1.3487 - acc: 0.5216 - val_loss: 1.4210 - val_acc: 0.4988\n",
      "Epoch 9/50\n",
      "50000/50000 [==============================] - 2s 40us/step - loss: 1.3099 - acc: 0.5374 - val_loss: 1.4111 - val_acc: 0.5029\n",
      "Epoch 10/50\n",
      "50000/50000 [==============================] - 2s 40us/step - loss: 1.2788 - acc: 0.5483 - val_loss: 1.3983 - val_acc: 0.5054\n",
      "Epoch 11/50\n",
      "50000/50000 [==============================] - 2s 42us/step - loss: 1.2423 - acc: 0.5599 - val_loss: 1.3877 - val_acc: 0.5117\n",
      "Epoch 12/50\n",
      "50000/50000 [==============================] - 2s 41us/step - loss: 1.2146 - acc: 0.5745 - val_loss: 1.3785 - val_acc: 0.5137\n",
      "Epoch 13/50\n",
      "50000/50000 [==============================] - 2s 41us/step - loss: 1.1820 - acc: 0.5840 - val_loss: 1.3709 - val_acc: 0.5191\n",
      "Epoch 14/50\n",
      "50000/50000 [==============================] - 2s 41us/step - loss: 1.1524 - acc: 0.5935 - val_loss: 1.3639 - val_acc: 0.5186\n",
      "Epoch 15/50\n",
      "50000/50000 [==============================] - 2s 42us/step - loss: 1.1247 - acc: 0.6051 - val_loss: 1.3628 - val_acc: 0.5223\n",
      "Epoch 16/50\n",
      "50000/50000 [==============================] - 2s 42us/step - loss: 1.0942 - acc: 0.6171 - val_loss: 1.3590 - val_acc: 0.5234\n",
      "Epoch 17/50\n",
      "50000/50000 [==============================] - 2s 40us/step - loss: 1.0652 - acc: 0.6251 - val_loss: 1.3599 - val_acc: 0.5217\n",
      "Epoch 18/50\n",
      "50000/50000 [==============================] - 2s 40us/step - loss: 1.0383 - acc: 0.6366 - val_loss: 1.3537 - val_acc: 0.5260\n",
      "Epoch 19/50\n",
      "50000/50000 [==============================] - 2s 40us/step - loss: 1.0110 - acc: 0.6458 - val_loss: 1.3532 - val_acc: 0.5307\n",
      "Epoch 20/50\n",
      "50000/50000 [==============================] - 2s 40us/step - loss: 0.9870 - acc: 0.6552 - val_loss: 1.3559 - val_acc: 0.5294\n",
      "Epoch 21/50\n",
      "50000/50000 [==============================] - 2s 40us/step - loss: 0.9624 - acc: 0.6635 - val_loss: 1.3525 - val_acc: 0.5293\n",
      "Epoch 22/50\n",
      "50000/50000 [==============================] - 2s 41us/step - loss: 0.9325 - acc: 0.6768 - val_loss: 1.3536 - val_acc: 0.5354\n",
      "Epoch 23/50\n",
      "50000/50000 [==============================] - 2s 41us/step - loss: 0.9099 - acc: 0.6825 - val_loss: 1.3617 - val_acc: 0.5314\n",
      "Epoch 24/50\n",
      "50000/50000 [==============================] - 2s 41us/step - loss: 0.8798 - acc: 0.6940 - val_loss: 1.3683 - val_acc: 0.5328\n",
      "Epoch 25/50\n",
      "50000/50000 [==============================] - 2s 40us/step - loss: 0.8590 - acc: 0.7000 - val_loss: 1.3739 - val_acc: 0.5301\n",
      "Epoch 26/50\n",
      "50000/50000 [==============================] - 2s 40us/step - loss: 0.8324 - acc: 0.7117 - val_loss: 1.3749 - val_acc: 0.5335\n",
      "Epoch 27/50\n",
      "50000/50000 [==============================] - 2s 40us/step - loss: 0.8067 - acc: 0.7208 - val_loss: 1.3821 - val_acc: 0.5314\n",
      "Epoch 28/50\n",
      "50000/50000 [==============================] - 2s 41us/step - loss: 0.7807 - acc: 0.7293 - val_loss: 1.3936 - val_acc: 0.5311\n",
      "Epoch 29/50\n",
      "50000/50000 [==============================] - 2s 40us/step - loss: 0.7554 - acc: 0.7389 - val_loss: 1.4014 - val_acc: 0.5321\n",
      "Epoch 30/50\n",
      "50000/50000 [==============================] - 2s 40us/step - loss: 0.7321 - acc: 0.7478 - val_loss: 1.4122 - val_acc: 0.5328\n",
      "Epoch 31/50\n",
      "50000/50000 [==============================] - 2s 41us/step - loss: 0.7105 - acc: 0.7543 - val_loss: 1.4253 - val_acc: 0.5345\n",
      "Epoch 32/50\n",
      "50000/50000 [==============================] - 2s 40us/step - loss: 0.6831 - acc: 0.7647 - val_loss: 1.4326 - val_acc: 0.5317\n",
      "Epoch 33/50\n",
      "50000/50000 [==============================] - 2s 40us/step - loss: 0.6624 - acc: 0.7709 - val_loss: 1.4596 - val_acc: 0.5339\n",
      "Epoch 34/50\n",
      "50000/50000 [==============================] - 2s 40us/step - loss: 0.6364 - acc: 0.7817 - val_loss: 1.4686 - val_acc: 0.5293\n",
      "Epoch 35/50\n",
      "50000/50000 [==============================] - 2s 40us/step - loss: 0.6188 - acc: 0.7891 - val_loss: 1.4794 - val_acc: 0.5313\n",
      "Epoch 36/50\n",
      "50000/50000 [==============================] - 2s 40us/step - loss: 0.5945 - acc: 0.7970 - val_loss: 1.4980 - val_acc: 0.5288\n",
      "Epoch 37/50\n",
      "50000/50000 [==============================] - 2s 40us/step - loss: 0.5739 - acc: 0.8060 - val_loss: 1.5064 - val_acc: 0.5262\n",
      "Epoch 38/50\n",
      "50000/50000 [==============================] - 2s 40us/step - loss: 0.5518 - acc: 0.8121 - val_loss: 1.5240 - val_acc: 0.5345\n",
      "Epoch 39/50\n",
      "50000/50000 [==============================] - 2s 40us/step - loss: 0.5340 - acc: 0.8193 - val_loss: 1.5506 - val_acc: 0.5210\n",
      "Epoch 40/50\n",
      "50000/50000 [==============================] - 2s 40us/step - loss: 0.5112 - acc: 0.8287 - val_loss: 1.5702 - val_acc: 0.5254\n",
      "Epoch 41/50\n",
      "50000/50000 [==============================] - 2s 40us/step - loss: 0.4878 - acc: 0.8360 - val_loss: 1.5882 - val_acc: 0.5244\n",
      "Epoch 42/50\n",
      "50000/50000 [==============================] - 2s 40us/step - loss: 0.4728 - acc: 0.8416 - val_loss: 1.6112 - val_acc: 0.5218\n",
      "Epoch 43/50\n",
      "50000/50000 [==============================] - 2s 40us/step - loss: 0.4511 - acc: 0.8500 - val_loss: 1.6384 - val_acc: 0.5221\n",
      "Epoch 44/50\n",
      "50000/50000 [==============================] - 2s 40us/step - loss: 0.4349 - acc: 0.8534 - val_loss: 1.6528 - val_acc: 0.5211\n",
      "Epoch 45/50\n",
      "50000/50000 [==============================] - 2s 40us/step - loss: 0.4170 - acc: 0.8618 - val_loss: 1.6896 - val_acc: 0.5195\n",
      "Epoch 46/50\n",
      "50000/50000 [==============================] - 2s 40us/step - loss: 0.4019 - acc: 0.8668 - val_loss: 1.7005 - val_acc: 0.5202\n",
      "Epoch 47/50\n",
      "50000/50000 [==============================] - 2s 40us/step - loss: 0.3891 - acc: 0.8712 - val_loss: 1.7168 - val_acc: 0.5164\n",
      "Epoch 48/50\n",
      "50000/50000 [==============================] - 2s 40us/step - loss: 0.3664 - acc: 0.8804 - val_loss: 1.7380 - val_acc: 0.5151\n"
     ]
    },
    {
     "name": "stdout",
     "output_type": "stream",
     "text": [
      "Epoch 49/50\n",
      "50000/50000 [==============================] - 2s 41us/step - loss: 0.3531 - acc: 0.8849 - val_loss: 1.7697 - val_acc: 0.5131\n",
      "Epoch 50/50\n",
      "50000/50000 [==============================] - 2s 40us/step - loss: 0.3382 - acc: 0.8918 - val_loss: 1.7951 - val_acc: 0.5184\n"
     ]
    }
   ],
   "source": [
    "results = {}\n",
    "\n",
    "model = build_mlp(input_shape=x_train.shape[1:], l1_ratio=L1_EXP, drp_ratio=DROP_RATIO)\n",
    "model.summary()\n",
    "optimizer = keras.optimizers.SGD(lr=LEARNING_RATE, nesterov=True, momentum=MOMENTUM)\n",
    "model.compile(loss=\"categorical_crossentropy\", metrics=[\"accuracy\"], optimizer=optimizer)\n",
    "\n",
    "model.fit(x_train, y_train, \n",
    "          epochs=EPOCHS, \n",
    "          batch_size=BATCH_SIZE, \n",
    "          validation_data=(x_test, y_test), \n",
    "          shuffle=True)\n",
    "\n",
    "# Collect results\n",
    "train_loss = model.history.history[\"loss\"]\n",
    "valid_loss = model.history.history[\"val_loss\"]\n",
    "train_acc = model.history.history[\"acc\"]\n",
    "valid_acc = model.history.history[\"val_acc\"]"
   ]
  },
  {
   "cell_type": "code",
   "execution_count": 8,
   "metadata": {},
   "outputs": [
    {
     "data": {
      "image/png": "[encoded data removed]",
      "text/plain": [
       "<Figure size 432x288 with 1 Axes>"
      ]
     },
     "metadata": {
      "needs_background": "light"
     },
     "output_type": "display_data"
    },
    {
     "data": {
      "image/png": "[encoded data removed]",
      "text/plain": [
       "<Figure size 432x288 with 1 Axes>"
      ]
     },
     "metadata": {
      "needs_background": "light"
     },
     "output_type": "display_data"
    }
   ],
   "source": [
    "import matplotlib.pyplot as plt\n",
    "%matplotlib inline\n",
    "\n",
    "plt.plot(range(len(train_loss)), train_loss, label=\"train loss\")\n",
    "plt.plot(range(len(valid_loss)), valid_loss, label=\"valid loss\")\n",
    "plt.legend()\n",
    "plt.title(\"Loss\")\n",
    "plt.show()\n",
    "\n",
    "plt.plot(range(len(train_acc)), train_acc, label=\"train accuracy\")\n",
    "plt.plot(range(len(valid_acc)), valid_acc, label=\"valid accuracy\")\n",
    "plt.legend()\n",
    "plt.title(\"Accuracy\")\n",
    "plt.show()"
   ]
  },
  {
   "cell_type": "code",
   "execution_count": null,
   "metadata": {},
   "outputs": [],
   "source": []
  }
 ],
 "metadata": {
  "kernelspec": {
   "display_name": "Python 3",
   "language": "python",
   "name": "python3"
  },
  "language_info": {
   "codemirror_mode": {
    "name": "ipython",
    "version": 3
   },
   "file_extension": ".py",
   "mimetype": "text/x-python",
   "name": "python",
   "nbconvert_exporter": "python",
   "pygments_lexer": "ipython3",
   "version": "3.6.8"
  }
 },
 "nbformat": 4,
 "nbformat_minor": 2
}
